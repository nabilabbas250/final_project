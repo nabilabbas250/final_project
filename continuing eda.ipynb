{
 "cells": [
  {
   "cell_type": "code",
   "execution_count": 83,
   "metadata": {},
   "outputs": [],
   "source": [
    "import pandas as pd\n",
    "import numpy as np\n",
    "import requests\n",
    "import time\n",
    "from tqdm import tqdm_notebook \n"
   ]
  },
  {
   "cell_type": "code",
   "execution_count": 5,
   "metadata": {},
   "outputs": [],
   "source": [
    "df = pd.read_csv('df_climate.csv')"
   ]
  },
  {
   "cell_type": "code",
   "execution_count": null,
   "metadata": {},
   "outputs": [],
   "source": []
  },
  {
   "cell_type": "code",
   "execution_count": 61,
   "metadata": {},
   "outputs": [
    {
     "data": {
      "text/plain": [
       "'deajyj'"
      ]
     },
     "execution_count": 61,
     "metadata": {},
     "output_type": "execute_result"
    }
   ],
   "source": [
    "a"
   ]
  },
  {
   "cell_type": "markdown",
   "metadata": {},
   "source": [
    "# Testing smaller comment posts"
   ]
  },
  {
   "cell_type": "code",
   "execution_count": 69,
   "metadata": {},
   "outputs": [],
   "source": [
    "a = df['id'][1]\n",
    "b = df['id'][2]\n",
    "\n",
    "response_a = requests.get(f'https://api.pushshift.io/reddit/submission/comment_ids/{a}')\n",
    "data_a = response_a.json() #comment_ids\n",
    "\n",
    "response_b = requests.get(f'https://api.pushshift.io/reddit/submission/comment_ids/{b}')\n",
    "data_b = response_b.json() #comment_ids\n",
    "\n",
    "comment_dict1 = {}\n",
    "comment_dict1[a] = data_a['data']\n",
    "comment_dict1[b] = data_b['data']"
   ]
  },
  {
   "cell_type": "code",
   "execution_count": 70,
   "metadata": {},
   "outputs": [
    {
     "data": {
      "text/plain": [
       "'deax2b'"
      ]
     },
     "execution_count": 70,
     "metadata": {},
     "output_type": "execute_result"
    }
   ],
   "source": [
    "b"
   ]
  },
  {
   "cell_type": "code",
   "execution_count": 71,
   "metadata": {
    "scrolled": true
   },
   "outputs": [
    {
     "data": {
      "text/plain": [
       "{'deajyj': ['f2ue7fd', 'f2uf3gd', 'f2uid8z', 'f2uk4ga'],\n",
       " 'deax2b': ['f2tzaks', 'f2u3x1i']}"
      ]
     },
     "execution_count": 71,
     "metadata": {},
     "output_type": "execute_result"
    }
   ],
   "source": [
    "comment_dict1"
   ]
  },
  {
   "cell_type": "code",
   "execution_count": 80,
   "metadata": {},
   "outputs": [
    {
     "name": "stdout",
     "output_type": "stream",
     "text": [
      "4\n",
      "2\n"
     ]
    }
   ],
   "source": [
    "print(len(comment_dict1['deajyj']))\n",
    "print(len(comment_dict1['deax2b']))"
   ]
  },
  {
   "cell_type": "code",
   "execution_count": 89,
   "metadata": {},
   "outputs": [],
   "source": [
    "def comments(comment_dict):\n",
    "\n",
    "    comment_info = {}\n",
    "\n",
    "    for key in tqdm_notebook(comment_dict):\n",
    "        comment_info[key] = []\n",
    "        for value in comment_dict[key]:\n",
    "            response = requests.get(f'https://api.pushshift.io/reddit/comment/search?ids={value}')\n",
    "            time.sleep(.4)\n",
    "            data = response.json()\n",
    "#             print(key)\n",
    "#             print(value)\n",
    "#             print(data['data'])\n",
    "            comment_info[key].extend(data['data'])\n",
    "    return comment_info"
   ]
  },
  {
   "cell_type": "code",
   "execution_count": 90,
   "metadata": {},
   "outputs": [
    {
     "data": {
      "application/vnd.jupyter.widget-view+json": {
       "model_id": "cb21ad52a3204706b94aed9eea07bc73",
       "version_major": 2,
       "version_minor": 0
      },
      "text/plain": [
       "HBox(children=(IntProgress(value=0, max=2), HTML(value='')))"
      ]
     },
     "metadata": {},
     "output_type": "display_data"
    },
    {
     "name": "stdout",
     "output_type": "stream",
     "text": [
      "\n"
     ]
    }
   ],
   "source": [
    "sample = comments(comment_dict1)"
   ]
  },
  {
   "cell_type": "code",
   "execution_count": 91,
   "metadata": {},
   "outputs": [
    {
     "data": {
      "text/plain": [
       "2"
      ]
     },
     "execution_count": 91,
     "metadata": {},
     "output_type": "execute_result"
    }
   ],
   "source": [
    "len(sample.keys())"
   ]
  },
  {
   "cell_type": "code",
   "execution_count": 81,
   "metadata": {},
   "outputs": [
    {
     "name": "stdout",
     "output_type": "stream",
     "text": [
      "4\n",
      "2\n"
     ]
    }
   ],
   "source": [
    "print(len(sample['deajyj']))\n",
    "print(len(sample['deax2b']))"
   ]
  },
  {
   "cell_type": "markdown",
   "metadata": {},
   "source": [
    "# Testing Larger Comment Posts"
   ]
  },
  {
   "cell_type": "code",
   "execution_count": 12,
   "metadata": {},
   "outputs": [
    {
     "data": {
      "text/plain": [
       "'deigrz'"
      ]
     },
     "execution_count": 12,
     "metadata": {},
     "output_type": "execute_result"
    }
   ],
   "source": [
    "x = df['id'][12]\n",
    "y = df['id'][8]\n",
    "\n",
    "response = requests.get(f'https://api.pushshift.io/reddit/submission/comment_ids/{x}')\n",
    "data = response.json()\n",
    "\n",
    "response1 = requests.get(f'https://api.pushshift.io/reddit/submission/comment_ids/{y}')\n",
    "data1 = response.json()\n",
    "\n",
    "comment_dict = {}\n",
    "comment_dict[x] = data['data']\n",
    "comment_dict[y] = data1['data']"
   ]
  },
  {
   "cell_type": "markdown",
   "metadata": {},
   "source": [
    "list of dictionaries with all the comments"
   ]
  },
  {
   "cell_type": "code",
   "execution_count": null,
   "metadata": {},
   "outputs": [],
   "source": [
    "def comments(comment_dict):\n",
    "    response = requests.get('https://api.pushshift.io/reddit/comment/search?ids=dlrezc8,dlrawgw,dlrhbkq')"
   ]
  },
  {
   "cell_type": "code",
   "execution_count": 43,
   "metadata": {},
   "outputs": [
    {
     "data": {
      "text/plain": [
       "{'key': []}"
      ]
     },
     "execution_count": 43,
     "metadata": {},
     "output_type": "execute_result"
    }
   ],
   "source": [
    "comment_info = {}\n",
    "comment_info['key'] = []\n",
    "comment_info"
   ]
  },
  {
   "cell_type": "code",
   "execution_count": 44,
   "metadata": {},
   "outputs": [],
   "source": [
    "a_id = [{'a' : '1'}]\n",
    "b_id = [{'b' : '2'}]\n",
    "c_id = [{'c' : '3'}]\n",
    "\n",
    "list1 = [a_id, b_id, c_id]"
   ]
  },
  {
   "cell_type": "code",
   "execution_count": 47,
   "metadata": {},
   "outputs": [
    {
     "data": {
      "text/plain": [
       "{'key': [{'a': '1'}, {'b': '2'}, {'c': '3'}]}"
      ]
     },
     "execution_count": 47,
     "metadata": {},
     "output_type": "execute_result"
    }
   ],
   "source": [
    "for item in list1:\n",
    "    comment_info['key'].extend(item)\n",
    "comment_info"
   ]
  },
  {
   "cell_type": "code",
   "execution_count": 42,
   "metadata": {},
   "outputs": [
    {
     "name": "stdout",
     "output_type": "stream",
     "text": [
      "deigrz\n",
      "f2vgm9f\n",
      "[{'all_awardings': [], 'approved_at_utc': None, 'author': 'Adlermann_nl', 'author_flair_background_color': None, 'author_flair_css_class': None, 'author_flair_richtext': [], 'author_flair_template_id': None, 'author_flair_text': None, 'author_flair_text_color': None, 'author_flair_type': 'text', 'author_fullname': 't2_31hx1x5x', 'author_patreon_flair': False, 'awarders': [], 'banned_at_utc': None, 'body': \"A lot of things are actually happening, but you also have to understand we can't just stop emitting co2 today. That would end our economies. According to the IPCC there is still some time (clock is ticking, agreed). co2 neutral in 2050 (for the entire world) is fast enough. The next 50 and further years we should spend on removing co2 from the atmosphere as well.\\n\\nThe climate accords here in the Netherlands are not perfect, but this is something we can work with. More action would lead to massive civil unrest. this in case could have a worse effect on the climate measures when people start to vote at climate change denying parties here.\", 'can_mod_post': False, 'collapsed': False, 'collapsed_reason': None, 'created_utc': 1570452225, 'distinguished': None, 'edited': False, 'gildings': {}, 'id': 'f2vgm9f', 'is_submitter': False, 'link_id': 't3_deigrz', 'locked': False, 'no_follow': True, 'parent_id': 't3_deigrz', 'permalink': '/r/climate/comments/deigrz/climate_inaction_is_terrifying/f2vgm9f/', 'retrieved_on': 1570452235, 'score': 1, 'send_replies': True, 'steward_reports': [], 'stickied': False, 'subreddit': 'climate', 'subreddit_id': 't5_2qhx3', 'total_awards_received': 0}]\n",
      "\n",
      "deigrz\n",
      "f2vi38o\n",
      "[{'all_awardings': [], 'approved_at_utc': None, 'author': 'challengingviews', 'author_flair_background_color': None, 'author_flair_css_class': None, 'author_flair_richtext': [], 'author_flair_template_id': None, 'author_flair_text': None, 'author_flair_text_color': None, 'author_flair_type': 'text', 'author_fullname': 't2_e1jcg', 'author_patreon_flair': False, 'awarders': [], 'banned_at_utc': None, 'body': \"Fair point. I only fear that 2050 (30 years from now) is too late. I remember that an IPCC report got a lot of headlines saying that we have 12 years to fix our carbon emitting problem.\\nYou're right that if we abruptly stopped now all carbon emitting, that would be a disaster.\\nI am advocating for plans with a time-frame below 12 years to reach carbon neutrality.\", 'can_mod_post': False, 'collapsed': False, 'collapsed_reason': None, 'created_utc': 1570452887, 'distinguished': None, 'edited': False, 'gildings': {}, 'id': 'f2vi38o', 'is_submitter': True, 'link_id': 't3_deigrz', 'locked': False, 'no_follow': True, 'parent_id': 't1_f2vgm9f', 'permalink': '/r/climate/comments/deigrz/climate_inaction_is_terrifying/f2vi38o/', 'retrieved_on': 1570452899, 'score': 1, 'send_replies': True, 'steward_reports': [], 'stickied': False, 'subreddit': 'climate', 'subreddit_id': 't5_2qhx3', 'total_awards_received': 0}]\n",
      "\n",
      "deigrz\n",
      "f2vubva\n",
      "[{'all_awardings': [], 'approved_at_utc': None, 'author': 'UberFreex', 'author_flair_background_color': None, 'author_flair_css_class': None, 'author_flair_richtext': [], 'author_flair_template_id': None, 'author_flair_text': None, 'author_flair_text_color': None, 'author_flair_type': 'text', 'author_fullname': 't2_35lsj2r1', 'author_patreon_flair': False, 'awarders': [], 'banned_at_utc': None, 'body': \"Exactly why can't we stop emitting CO2 today? Human civilization and our species itself have existed without constantly burning petrol for literally thousands of years. Economies are based on nothing more than faith on reinvestments, which are also paid for with money that has no value.  You're telling me that you'd rather continue to amass fictional sums of wealth than save your own species and perhaps most living species on this planet.  GG\", 'can_mod_post': False, 'collapsed': False, 'collapsed_reason': None, 'created_utc': 1570457495, 'distinguished': None, 'edited': False, 'gildings': {}, 'id': 'f2vubva', 'is_submitter': False, 'link_id': 't3_deigrz', 'locked': False, 'no_follow': True, 'parent_id': 't1_f2vgm9f', 'permalink': '/r/climate/comments/deigrz/climate_inaction_is_terrifying/f2vubva/', 'retrieved_on': 1570457506, 'score': 1, 'send_replies': True, 'steward_reports': [], 'stickied': False, 'subreddit': 'climate', 'subreddit_id': 't5_2qhx3', 'total_awards_received': 0}]\n",
      "\n",
      "deigrz\n",
      "f2w4syd\n",
      "[{'all_awardings': [], 'approved_at_utc': None, 'author': 'MorboThinksYourePuny', 'author_flair_background_color': None, 'author_flair_css_class': None, 'author_flair_richtext': [], 'author_flair_template_id': None, 'author_flair_text': None, 'author_flair_text_color': None, 'author_flair_type': 'text', 'author_fullname': 't2_zkiai', 'author_patreon_flair': False, 'awarders': [], 'banned_at_utc': None, 'body': 'The report you mention is saying that 2050 is good enough.\\n\\nFrom wiki:\\n\"Global net human-caused emissions of carbon dioxide (CO2) would need to fall by about 45 percent from 2010 levels by 2030, reaching \\'net zero\\' around 2050.\"\\n\\nhttps://en.m.wikipedia.org/wiki/Special_Report_on_Global_Warming_of_1.5_°C\\n\\nThis would result in 1.5 C global average temperature vs preindustrial. This is much better than the often repeated 2 C goal and infinitely better than business as usual.\\n\\nThe 12 year thing comes from the interim goal of 45% reduction by 2030, which is a nice round milestone year and highlights the urgency of things.\\n\\n**opinion time!** I think 1.5 C is absurdly optimistic. But, given recent trends in wind/solar/battery costs, I am cautiously optimistic that maybe I can stop calling it absurd and start calling it unlikely...', 'can_mod_post': False, 'collapsed': False, 'collapsed_reason': None, 'created_utc': 1570461305, 'distinguished': None, 'edited': False, 'gildings': {}, 'id': 'f2w4syd', 'is_submitter': False, 'link_id': 't3_deigrz', 'locked': False, 'no_follow': True, 'parent_id': 't1_f2vi38o', 'permalink': '/r/climate/comments/deigrz/climate_inaction_is_terrifying/f2w4syd/', 'retrieved_on': 1570461327, 'score': 1, 'send_replies': True, 'steward_reports': [], 'stickied': False, 'subreddit': 'climate', 'subreddit_id': 't5_2qhx3', 'total_awards_received': 0}]\n",
      "\n",
      "deigrz\n",
      "f2w5ib5\n",
      "[{'all_awardings': [], 'approved_at_utc': None, 'author': 'mistralol', 'author_flair_background_color': None, 'author_flair_css_class': None, 'author_flair_richtext': [], 'author_flair_template_id': None, 'author_flair_text': None, 'author_flair_text_color': None, 'author_flair_type': 'text', 'author_fullname': 't2_4ly91', 'author_patreon_flair': False, 'awarders': [], 'banned_at_utc': None, 'body': \"&gt;Exactly why can't we stop emitting CO2 today\\n\\nCause if you walk around an pull turn off all the coal, gas, oil power stations today. Million of people will not have the means to heat, cook, clean and society would instantly loose things like sanitation, fresh water and all sorts of other things. And this is just one example of many and this doesn't include any other heavy industry.\\n\\nSo in effect it not just a economic problem. But it will actually kill millions of people. Or those people are going to go out chop down tree's for burning in order to stay warm and cook food.\\n\\nPeople just simply are not going to roll over and accept that. You must offer them an alternative viable path which the same quality of life.\\n\\nLike what your asking for is to go back and plow fields by horse and man power. It simply does not scale to our size of population not to mention we have absolutely no tools, skills, knowledge or infrastructure that works like it did before.\", 'can_mod_post': False, 'collapsed': False, 'collapsed_reason': None, 'created_utc': 1570461563, 'distinguished': None, 'edited': False, 'gildings': {}, 'id': 'f2w5ib5', 'is_submitter': False, 'link_id': 't3_deigrz', 'locked': False, 'no_follow': True, 'parent_id': 't1_f2vubva', 'permalink': '/r/climate/comments/deigrz/climate_inaction_is_terrifying/f2w5ib5/', 'retrieved_on': 1570461579, 'score': 1, 'send_replies': True, 'steward_reports': [], 'stickied': False, 'subreddit': 'climate', 'subreddit_id': 't5_2qhx3', 'total_awards_received': 0}]\n",
      "\n",
      "deigrz\n",
      "f2w60lo\n",
      "[{'all_awardings': [], 'approved_at_utc': None, 'author': 'mistralol', 'author_flair_background_color': None, 'author_flair_css_class': None, 'author_flair_richtext': [], 'author_flair_template_id': None, 'author_flair_text': None, 'author_flair_text_color': None, 'author_flair_type': 'text', 'author_fullname': 't2_4ly91', 'author_patreon_flair': False, 'awarders': [], 'banned_at_utc': None, 'body': 'Yeah something you probably should be aware of is that the \"western world\" hasn\\'t met its emissions targets at all. It hasn\\'t even attempted to. It basically outsourced them and stopped accounting for them.\\n\\nThis graph below basically shows the emission cuts in the EU, USA etc.. basically \"moved\" and increased rather than reduced them... and its getting much much worse. We are not even going in the right direction yet....\\n\\n[https://www.theguardian.com/environment/2018/dec/05/brutal-news-global-carbon-emissions-jump-to-all-time-high-in-2018](https://www.theguardian.com/environment/2018/dec/05/brutal-news-global-carbon-emissions-jump-to-all-time-high-in-2018)', 'can_mod_post': False, 'collapsed': False, 'collapsed_reason': None, 'created_utc': 1570461745, 'distinguished': None, 'edited': False, 'gildings': {}, 'id': 'f2w60lo', 'is_submitter': False, 'link_id': 't3_deigrz', 'locked': False, 'no_follow': True, 'parent_id': 't1_f2vi38o', 'permalink': '/r/climate/comments/deigrz/climate_inaction_is_terrifying/f2w60lo/', 'retrieved_on': 1570461761, 'score': 1, 'send_replies': True, 'steward_reports': [], 'stickied': False, 'subreddit': 'climate', 'subreddit_id': 't5_2qhx3', 'total_awards_received': 0}]\n",
      "\n"
     ]
    },
    {
     "name": "stdout",
     "output_type": "stream",
     "text": [
      "deigrz\n",
      "f2w7s0v\n",
      "[{'all_awardings': [], 'approved_at_utc': None, 'author': 'mistralol', 'author_flair_background_color': None, 'author_flair_css_class': None, 'author_flair_richtext': [], 'author_flair_template_id': None, 'author_flair_text': None, 'author_flair_text_color': None, 'author_flair_type': 'text', 'author_fullname': 't2_4ly91', 'author_patreon_flair': False, 'awarders': [], 'banned_at_utc': None, 'body': '&gt;opinion time!  \\n&gt;  \\n&gt; I think 1.5 C is absurdly optimistic\\n\\nI think your right. I think the western world has actually done 0 progress so far in this. Mostly because we just outsourced dirty industry to the other side of the world then did not count it on imports.\\n\\n|  But, given recent trends in wind/solar/battery costs\\n\\nI don\\'t even think wind is viable complete solution because of the storage problems. Solar has much the same problem especially where I live where we get &lt; 6 hours daylight in winter (when we use power the most).\\n\\nThe number for wind, solar basically don\\'t add up.\\n\\nLike for an example wind as a complete solution assuming storage works. Assuming you have wind 30% of the time all year round. You need to be able to generate 3x the wind power than what is currently used. then it needs stored. Where you have 5-10% losses each way when doing so.\\n\\nBut the maths really don\\'t addup when you consider than electric is actually only about 30-35% of what we use energy wise. So in the EU its 18% \"wind generation capacity\" (lets round it up to 20%). So we need 5x what we currently have to get to 100% then multiple it by around 3.5x for the days its not windy.\\n\\nDon\\'t get me wrong here.. Its helps. It\\'s just no a solution cause for now we still need all the existing infrastructure and large industrial plants like oil, gas, coal power stations just don\\'t turn off / on quickly.\\n\\nPersonally I think we are getting things really really wrong.', 'can_mod_post': False, 'collapsed': False, 'collapsed_reason': None, 'created_utc': 1570462416, 'distinguished': None, 'edited': False, 'gildings': {}, 'id': 'f2w7s0v', 'is_submitter': False, 'link_id': 't3_deigrz', 'locked': False, 'no_follow': True, 'parent_id': 't1_f2w4syd', 'permalink': '/r/climate/comments/deigrz/climate_inaction_is_terrifying/f2w7s0v/', 'retrieved_on': 1570462427, 'score': 1, 'send_replies': True, 'steward_reports': [], 'stickied': False, 'subreddit': 'climate', 'subreddit_id': 't5_2qhx3', 'total_awards_received': 0}]\n",
      "\n",
      "deigrz\n",
      "f2wf08h\n",
      "[{'all_awardings': [], 'approved_at_utc': None, 'author': 'nynaeve-almeara', 'author_flair_background_color': None, 'author_flair_css_class': None, 'author_flair_richtext': [], 'author_flair_template_id': None, 'author_flair_text': None, 'author_flair_text_color': None, 'author_flair_type': 'text', 'author_fullname': 't2_2iud11k2', 'author_patreon_flair': False, 'awarders': [], 'banned_at_utc': None, 'body': 'The point is to do it now—2050 is an end goal for a massive project that will take a lot of work. Don’t set goals without a deadline.', 'can_mod_post': False, 'collapsed': False, 'collapsed_reason': None, 'created_utc': 1570464982, 'distinguished': None, 'edited': False, 'gildings': {}, 'id': 'f2wf08h', 'is_submitter': False, 'link_id': 't3_deigrz', 'locked': False, 'no_follow': True, 'parent_id': 't3_deigrz', 'permalink': '/r/climate/comments/deigrz/climate_inaction_is_terrifying/f2wf08h/', 'retrieved_on': 1570465015, 'score': 1, 'send_replies': True, 'steward_reports': [], 'stickied': False, 'subreddit': 'climate', 'subreddit_id': 't5_2qhx3', 'total_awards_received': 0}]\n",
      "\n",
      "deigrz\n",
      "f2wf8cw\n",
      "[{'all_awardings': [], 'approved_at_utc': None, 'author': 'MorboThinksYourePuny', 'author_flair_background_color': None, 'author_flair_css_class': None, 'author_flair_richtext': [], 'author_flair_template_id': None, 'author_flair_text': None, 'author_flair_text_color': None, 'author_flair_type': 'text', 'author_fullname': 't2_zkiai', 'author_patreon_flair': False, 'awarders': [], 'banned_at_utc': None, 'body': 'What’s your solution then?', 'can_mod_post': False, 'collapsed': False, 'collapsed_reason': None, 'created_utc': 1570465065, 'distinguished': None, 'edited': False, 'gildings': {}, 'id': 'f2wf8cw', 'is_submitter': False, 'link_id': 't3_deigrz', 'locked': False, 'no_follow': True, 'parent_id': 't1_f2w7s0v', 'permalink': '/r/climate/comments/deigrz/climate_inaction_is_terrifying/f2wf8cw/', 'retrieved_on': 1570465092, 'score': 1, 'send_replies': True, 'steward_reports': [], 'stickied': False, 'subreddit': 'climate', 'subreddit_id': 't5_2qhx3', 'total_awards_received': 0}]\n",
      "\n",
      "deigrz\n",
      "f2wid68\n",
      "[{'all_awardings': [], 'approved_at_utc': None, 'author': 'UberFreex', 'author_flair_background_color': None, 'author_flair_css_class': None, 'author_flair_richtext': [], 'author_flair_template_id': None, 'author_flair_text': None, 'author_flair_text_color': None, 'author_flair_type': 'text', 'author_fullname': 't2_35lsj2r1', 'author_patreon_flair': False, 'awarders': [], 'banned_at_utc': None, 'body': \"We're vastly overpopulated on a dying planet, with ecosystems in collapse and a finite amount of all resources that exist.  Full stop.  You cannot have constant growth with extremely finite resources.  Please, tell me how we could ever maintain today's standards of living for all human beings for all generations going forward AND not continue to destroy our very capacity to live on this planet.  It's simple, do we want to go extinct as a species, or don't we?\", 'can_mod_post': False, 'collapsed': False, 'collapsed_reason': None, 'created_utc': 1570466150, 'distinguished': None, 'edited': False, 'gildings': {}, 'id': 'f2wid68', 'is_submitter': False, 'link_id': 't3_deigrz', 'locked': False, 'no_follow': True, 'parent_id': 't1_f2w5ib5', 'permalink': '/r/climate/comments/deigrz/climate_inaction_is_terrifying/f2wid68/', 'retrieved_on': 1570466180, 'score': 1, 'send_replies': True, 'steward_reports': [], 'stickied': False, 'subreddit': 'climate', 'subreddit_id': 't5_2qhx3', 'total_awards_received': 0}]\n",
      "\n",
      "deigrz\n",
      "f2wk205\n",
      "[{'all_awardings': [], 'approved_at_utc': None, 'author': 'Togethernotapart', 'author_flair_background_color': None, 'author_flair_css_class': None, 'author_flair_richtext': [], 'author_flair_template_id': None, 'author_flair_text': None, 'author_flair_text_color': None, 'author_flair_type': 'text', 'author_fullname': 't2_xu93ixz', 'author_patreon_flair': False, 'awarders': [], 'banned_at_utc': None, 'body': 'Start with the recommendations from the last Special Report.', 'can_mod_post': False, 'collapsed': False, 'collapsed_reason': None, 'created_utc': 1570466720, 'distinguished': None, 'edited': False, 'gildings': {}, 'id': 'f2wk205', 'is_submitter': False, 'link_id': 't3_deigrz', 'locked': False, 'no_follow': True, 'parent_id': 't1_f2wf8cw', 'permalink': '/r/climate/comments/deigrz/climate_inaction_is_terrifying/f2wk205/', 'retrieved_on': 1570466768, 'score': 1, 'send_replies': True, 'steward_reports': [], 'stickied': False, 'subreddit': 'climate', 'subreddit_id': 't5_2qhx3', 'total_awards_received': 0}]\n",
      "\n",
      "deigrz\n",
      "f2wk46s\n",
      "[{'all_awardings': [], 'approved_at_utc': None, 'author': '[deleted]', 'author_flair_background_color': '', 'author_flair_css_class': None, 'author_flair_template_id': None, 'author_flair_text': None, 'author_flair_text_color': 'dark', 'awarders': [], 'banned_at_utc': None, 'body': '[removed]', 'can_mod_post': False, 'collapsed': False, 'collapsed_reason': None, 'created_utc': 1570466740, 'distinguished': None, 'edited': False, 'gildings': {}, 'id': 'f2wk46s', 'is_submitter': False, 'link_id': 't3_deigrz', 'locked': False, 'no_follow': True, 'parent_id': 't1_f2w5ib5', 'permalink': '/r/climate/comments/deigrz/climate_inaction_is_terrifying/f2wk46s/', 'retrieved_on': 1570466789, 'score': 1, 'send_replies': False, 'steward_reports': [], 'stickied': False, 'subreddit': 'climate', 'subreddit_id': 't5_2qhx3', 'total_awards_received': 0}]\n",
      "\n",
      "deigrz\n",
      "f2wkk3d\n",
      "[{'all_awardings': [], 'approved_at_utc': None, 'author': 'Togethernotapart', 'author_flair_background_color': None, 'author_flair_css_class': None, 'author_flair_richtext': [], 'author_flair_template_id': None, 'author_flair_text': None, 'author_flair_text_color': None, 'author_flair_type': 'text', 'author_fullname': 't2_xu93ixz', 'author_patreon_flair': False, 'awarders': [], 'banned_at_utc': None, 'body': '&gt;an alternative viable path which the same quality of life.\\n\\nWe can still have quality lives. Just not the way we have. We will have different measures of happiness. It will require great effort, but is not impossible.', 'can_mod_post': False, 'collapsed': False, 'collapsed_reason': None, 'created_utc': 1570466885, 'distinguished': None, 'edited': False, 'gildings': {}, 'id': 'f2wkk3d', 'is_submitter': False, 'link_id': 't3_deigrz', 'locked': False, 'no_follow': True, 'parent_id': 't1_f2w5ib5', 'permalink': '/r/climate/comments/deigrz/climate_inaction_is_terrifying/f2wkk3d/', 'retrieved_on': 1570466944, 'score': 1, 'send_replies': True, 'steward_reports': [], 'stickied': False, 'subreddit': 'climate', 'subreddit_id': 't5_2qhx3', 'total_awards_received': 0}]\n",
      "\n"
     ]
    },
    {
     "name": "stdout",
     "output_type": "stream",
     "text": [
      "deigrz\n",
      "f2wku25\n",
      "[{'all_awardings': [], 'approved_at_utc': None, 'author': 'worotan', 'author_flair_background_color': None, 'author_flair_css_class': None, 'author_flair_richtext': [], 'author_flair_template_id': None, 'author_flair_text': None, 'author_flair_text_color': None, 'author_flair_type': 'text', 'author_fullname': 't2_7b4v1', 'author_patreon_flair': False, 'awarders': [], 'banned_at_utc': None, 'body': \"&gt; this in case could have a worse effect on the climate measures when people start to vote at climate change denying parties here.\\n\\nPeople are already voting for climate denying parties, in every democracy we have.\\n\\nHence the lack of serious action. Keep kicking the can down the road, and coming up with new reasons why we can't act more quickly, that skirt the real reason of needing to help the right people keep making obscene amounts of money.\", 'can_mod_post': False, 'collapsed': False, 'collapsed_reason': None, 'created_utc': 1570466977, 'distinguished': None, 'edited': False, 'gildings': {}, 'id': 'f2wku25', 'is_submitter': False, 'link_id': 't3_deigrz', 'locked': False, 'no_follow': True, 'parent_id': 't1_f2vgm9f', 'permalink': '/r/climate/comments/deigrz/climate_inaction_is_terrifying/f2wku25/', 'retrieved_on': 1570467043, 'score': 1, 'send_replies': False, 'steward_reports': [], 'stickied': False, 'subreddit': 'climate', 'subreddit_id': 't5_2qhx3', 'total_awards_received': 0}]\n",
      "\n",
      "deigrz\n",
      "f2wnk1e\n",
      "[{'all_awardings': [], 'approved_at_utc': None, 'author': 'MountNevermind', 'author_flair_background_color': None, 'author_flair_css_class': None, 'author_flair_richtext': [], 'author_flair_template_id': None, 'author_flair_text': None, 'author_flair_text_color': None, 'author_flair_type': 'text', 'author_fullname': 't2_6pjqc0', 'author_patreon_flair': False, 'awarders': [], 'banned_at_utc': None, 'body': \"So any more action than what we're currently doing would lead to massive civil unrest?\\n\\nPay no attention to other jurisdictions engaging in more action than we are.  Nothing to see there.\\n\\nWhen does this sort of argument rub up against reality?\", 'can_mod_post': False, 'collapsed': False, 'collapsed_reason': None, 'created_utc': 1570467904, 'distinguished': None, 'edited': False, 'gildings': {}, 'id': 'f2wnk1e', 'is_submitter': False, 'link_id': 't3_deigrz', 'locked': False, 'no_follow': True, 'parent_id': 't1_f2vgm9f', 'permalink': '/r/climate/comments/deigrz/climate_inaction_is_terrifying/f2wnk1e/', 'retrieved_on': 1570468031, 'score': 1, 'send_replies': True, 'steward_reports': [], 'stickied': False, 'subreddit': 'climate', 'subreddit_id': 't5_2qhx3', 'total_awards_received': 0}]\n",
      "\n",
      "deigrz\n",
      "f2wqjx1\n",
      "[{'all_awardings': [], 'approved_at_utc': None, 'author': 'ILikeNeurons', 'author_flair_background_color': None, 'author_flair_css_class': None, 'author_flair_richtext': [], 'author_flair_template_id': None, 'author_flair_text': None, 'author_flair_text_color': None, 'author_flair_type': 'text', 'author_fullname': 't2_9cki6', 'author_patreon_flair': False, 'awarders': [], 'banned_at_utc': None, 'body': \"Yes. Let's pass carbon pricing bill *now*. The U.S. House [is raining carbon pricing bills](https://climate-xchange.org/2019/08/15/its-raining-carbon-pricing-bills-on-capitol-hill-a-comparative-look/) -- some of them even have dozens of co-sponsors already. \\n\\nYou can [train as a volunteer climate lobbyist](https://citizensclimatelobby.org/join-citizens-climate-lobby/?tfa_3590416195188=reddit-CarbonTax&amp;utm_source=reddit&amp;utm_medium=referral&amp;utm_campaign=CarbonTax) for free for a few hours a month and help to push [reasonable climate policy](https://www.theguardian.com/environment/climate-consensus-97-per-cent/2014/jun/13/how-revenue-neutral-carbon-tax-creates-jobs-grows-economy) over the finish line.\", 'can_mod_post': False, 'collapsed': False, 'collapsed_reason': None, 'created_utc': 1570468961, 'distinguished': None, 'edited': False, 'gildings': {}, 'id': 'f2wqjx1', 'is_submitter': False, 'link_id': 't3_deigrz', 'locked': False, 'no_follow': True, 'parent_id': 't3_deigrz', 'permalink': '/r/climate/comments/deigrz/climate_inaction_is_terrifying/f2wqjx1/', 'retrieved_on': 1570469127, 'score': 1, 'send_replies': True, 'steward_reports': [], 'stickied': False, 'subreddit': 'climate', 'subreddit_id': 't5_2qhx3', 'total_awards_received': 0}]\n",
      "\n",
      "deigrz\n",
      "f2wrb00\n",
      "[{'all_awardings': [], 'approved_at_utc': None, 'author': '[deleted]', 'author_flair_background_color': '', 'author_flair_css_class': None, 'author_flair_template_id': None, 'author_flair_text': None, 'author_flair_text_color': 'dark', 'awarders': [], 'banned_at_utc': None, 'body': '[removed]', 'can_mod_post': False, 'collapsed': False, 'collapsed_reason': None, 'created_utc': 1570469233, 'distinguished': None, 'edited': False, 'gildings': {}, 'id': 'f2wrb00', 'is_submitter': False, 'link_id': 't3_deigrz', 'locked': False, 'no_follow': True, 'parent_id': 't3_deigrz', 'permalink': '/r/climate/comments/deigrz/climate_inaction_is_terrifying/f2wrb00/', 'retrieved_on': 1570469409, 'score': 1, 'send_replies': True, 'steward_reports': [], 'stickied': False, 'subreddit': 'climate', 'subreddit_id': 't5_2qhx3', 'total_awards_received': 0}]\n",
      "\n",
      "deigrz\n",
      "f2wrmsp\n",
      "[{'all_awardings': [], 'approved_at_utc': None, 'author': 'jadenpls', 'author_flair_background_color': None, 'author_flair_css_class': None, 'author_flair_richtext': [], 'author_flair_template_id': None, 'author_flair_text': None, 'author_flair_text_color': None, 'author_flair_type': 'text', 'author_fullname': 't2_kj46c', 'author_patreon_flair': False, 'awarders': [], 'banned_at_utc': None, 'body': \"Theoretically we could maintain today's standard's of living using only renewable energy. I would estimate it might take 100 years for a complete global shift to renewable energy. However building solar panels and wind turbines also releases CO2 and needs an energy source. \\n\\nIn the end it boils down to whether humans can build renewable energy sources before the climate annihilates their economy.\", 'can_mod_post': False, 'collapsed': False, 'collapsed_reason': None, 'created_utc': 1570469346, 'distinguished': None, 'edited': False, 'gildings': {}, 'id': 'f2wrmsp', 'is_submitter': False, 'link_id': 't3_deigrz', 'locked': False, 'no_follow': True, 'parent_id': 't1_f2wid68', 'permalink': '/r/climate/comments/deigrz/climate_inaction_is_terrifying/f2wrmsp/', 'retrieved_on': 1570469525, 'score': 1, 'send_replies': True, 'steward_reports': [], 'stickied': False, 'subreddit': 'climate', 'subreddit_id': 't5_2qhx3', 'total_awards_received': 0}]\n",
      "\n",
      "deigrz\n",
      "f2wzb45\n",
      "[{'all_awardings': [], 'approved_at_utc': None, 'author': 'mistralol', 'author_flair_background_color': None, 'author_flair_css_class': None, 'author_flair_richtext': [], 'author_flair_template_id': None, 'author_flair_text': None, 'author_flair_text_color': None, 'author_flair_type': 'text', 'author_fullname': 't2_4ly91', 'author_patreon_flair': False, 'awarders': [], 'banned_at_utc': None, 'body': 'I am not saying its impossible btw. I am simply saying its impossible to change the behaviour of a couple of billion people overnight. From my point of view we need some draconian action. Right across the board people actually need to take responsibility for themselves.\\n\\nThe best way to do that is probably to put an \"environmental price tag\" on every single item bough / sold though out the entire supply change. Cause its not just CO2 emissions are the problem its a whole pile of other things which hurt. Once we can account for it we can bill and organise around that.', 'can_mod_post': False, 'collapsed': False, 'collapsed_reason': None, 'created_utc': 1570471937, 'distinguished': None, 'edited': False, 'gildings': {}, 'id': 'f2wzb45', 'is_submitter': False, 'link_id': 't3_deigrz', 'locked': False, 'no_follow': True, 'parent_id': 't1_f2wkk3d', 'permalink': '/r/climate/comments/deigrz/climate_inaction_is_terrifying/f2wzb45/', 'retrieved_on': 1570472229, 'score': 1, 'send_replies': True, 'steward_reports': [], 'stickied': False, 'subreddit': 'climate', 'subreddit_id': 't5_2qhx3', 'total_awards_received': 0}]\n",
      "\n",
      "deigrz\n",
      "f2x1joe\n",
      "[{'all_awardings': [], 'approved_at_utc': None, 'author': 'silence7', 'author_flair_background_color': None, 'author_flair_css_class': None, 'author_flair_richtext': [], 'author_flair_template_id': None, 'author_flair_text': None, 'author_flair_text_color': None, 'author_flair_type': 'text', 'author_fullname': 't2_22bd2', 'author_patreon_flair': False, 'awarders': [], 'banned_at_utc': None, 'body': 'This is what legislation like [HR763 tries to do](https://www.congress.gov/bill/116th-congress/house-bill/763)', 'can_mod_post': False, 'collapsed': False, 'collapsed_reason': None, 'created_utc': 1570472711, 'distinguished': None, 'edited': False, 'gildings': {}, 'id': 'f2x1joe', 'is_submitter': False, 'link_id': 't3_deigrz', 'locked': False, 'no_follow': True, 'parent_id': 't1_f2wzb45', 'permalink': '/r/climate/comments/deigrz/climate_inaction_is_terrifying/f2x1joe/', 'retrieved_on': 1570473021, 'score': 1, 'send_replies': True, 'steward_reports': [], 'stickied': False, 'subreddit': 'climate', 'subreddit_id': 't5_2qhx3', 'total_awards_received': 0}]\n",
      "\n"
     ]
    },
    {
     "name": "stdout",
     "output_type": "stream",
     "text": [
      "deigrz\n",
      "f2x2vwa\n",
      "[{'all_awardings': [], 'approved_at_utc': None, 'author': 'mistralol', 'author_flair_background_color': None, 'author_flair_css_class': None, 'author_flair_richtext': [], 'author_flair_template_id': None, 'author_flair_text': None, 'author_flair_text_color': None, 'author_flair_type': 'text', 'author_fullname': 't2_4ly91', 'author_patreon_flair': False, 'awarders': [], 'banned_at_utc': None, 'body': 'As for the energy methods. currently nuclear is looking like the best option.\\n\\nI have some suggestions and no \"total solutions\" the biggest problem I see is we cannot even account for the damage we cause. So we should start with that. This would involve putting a \"environmental price tag\" on every item being sold all the way though the supply chain. Then you give people a fair share of how much damage they are permitted to cause by consumerism and energy usage.\\n\\nBut what its really attempting to do is to redefine what success means. Most of that is based around social status and that is massively connected to money currently. If we were to change this definition to how much you care about the environment. So the people who run a company that sells the most items get to the \"top\" when in fact this is a race to the bottom from an environmental point of view. We build washing machines, tv, microwaves etc.. that last exactly 3.5-5 years. This is so that a company in 5 years time gets to sell you more crappy stuff that they didn\\'t build right in the first place. We need to stop rewarding this kind of behaviour and even start punishing it the best way to do that is though social methods.\\n\\nAs for taxing it. Once you have a price tag you can tax for it on a exponential scale once somebody breaches their basic credit limit. ie somebody buys a car it costs them X credits. If they buy a 2nd car its going to cost them X squared in costs.\\n\\nThe big issue with money is that its not connected to resources / environment at all. We need some kinda token introduced to our trading connected directly to resources / environment.\\n\\nWhat this attempts to form is a system where you can have limited spend. So obviously you want the cheapest priced items and companies will respond to that only the price need connected to the climate just like we do with today\\'s common trade.\\n\\nThe important thing here is that it also need to cross borders between countries.', 'can_mod_post': False, 'collapsed': False, 'collapsed_reason': None, 'created_utc': 1570473156, 'distinguished': None, 'edited': False, 'gildings': {}, 'id': 'f2x2vwa', 'is_submitter': False, 'link_id': 't3_deigrz', 'locked': False, 'no_follow': True, 'parent_id': 't1_f2wf8cw', 'permalink': '/r/climate/comments/deigrz/climate_inaction_is_terrifying/f2x2vwa/', 'retrieved_on': 1570473499, 'score': 1, 'send_replies': True, 'steward_reports': [], 'stickied': False, 'subreddit': 'climate', 'subreddit_id': 't5_2qhx3', 'total_awards_received': 0}]\n",
      "\n",
      "deigrz\n",
      "f2x3gzj\n",
      "[{'all_awardings': [], 'approved_at_utc': None, 'author': 'mistralol', 'author_flair_background_color': None, 'author_flair_css_class': None, 'author_flair_richtext': [], 'author_flair_template_id': None, 'author_flair_text': None, 'author_flair_text_color': None, 'author_flair_type': 'text', 'author_fullname': 't2_4ly91', 'author_patreon_flair': False, 'awarders': [], 'banned_at_utc': None, 'body': \"&gt;You cannot have constant growth with extremely finite resources\\n\\nYup first thing that need re-written is the financial system. Which currently drive consumerism. Which is one of the major contributing factors. Its not like people set out to randomly destroy the environment. they mostly do it because they get rewarded for it.\\n\\n| Please, tell me how we could ever maintain today's standards of living\\n\\nI don't know. Thats why I was asking you :) What I do know though is large amounts of the population are going to be really pissed off and won't roll over when you you turn their electric off.\", 'can_mod_post': False, 'collapsed': False, 'collapsed_reason': None, 'created_utc': 1570473344, 'distinguished': None, 'edited': False, 'gildings': {}, 'id': 'f2x3gzj', 'is_submitter': False, 'link_id': 't3_deigrz', 'locked': False, 'no_follow': True, 'parent_id': 't1_f2wid68', 'permalink': '/r/climate/comments/deigrz/climate_inaction_is_terrifying/f2x3gzj/', 'retrieved_on': 1570473702, 'score': 1, 'send_replies': True, 'steward_reports': [], 'stickied': False, 'subreddit': 'climate', 'subreddit_id': 't5_2qhx3', 'total_awards_received': 0}]\n",
      "\n",
      "deigrz\n",
      "f2x43ac\n",
      "[{'all_awardings': [], 'approved_at_utc': None, 'author': 'mistralol', 'author_flair_background_color': None, 'author_flair_css_class': None, 'author_flair_richtext': [], 'author_flair_template_id': None, 'author_flair_text': None, 'author_flair_text_color': None, 'author_flair_type': 'text', 'author_fullname': 't2_4ly91', 'author_patreon_flair': False, 'awarders': [], 'banned_at_utc': None, 'body': \"Which is basically useless. Cause that is only like 20% of the problem. The real problems are the dirty heavy industry which has been outsourced to where the laws do not apply. Like china. You know like steel production. They will try to catch these on the imports which will raise the price of the item or the other country that really doesn't give a crap will just completely ignore the emission in order to make ends meet.\\n\\nI would bet that law would have a negative effect for that reason.\", 'can_mod_post': False, 'collapsed': False, 'collapsed_reason': None, 'created_utc': 1570473544, 'distinguished': None, 'edited': False, 'gildings': {}, 'id': 'f2x43ac', 'is_submitter': False, 'link_id': 't3_deigrz', 'locked': False, 'no_follow': True, 'parent_id': 't1_f2x1joe', 'permalink': '/r/climate/comments/deigrz/climate_inaction_is_terrifying/f2x43ac/', 'retrieved_on': 1570473926, 'score': 1, 'send_replies': True, 'steward_reports': [], 'stickied': False, 'subreddit': 'climate', 'subreddit_id': 't5_2qhx3', 'total_awards_received': 0}]\n",
      "\n",
      "deigrz\n",
      "f2x4lya\n",
      "[{'all_awardings': [], 'approved_at_utc': None, 'author': 'bikingbill', 'author_flair_background_color': None, 'author_flair_css_class': None, 'author_flair_richtext': [], 'author_flair_template_id': None, 'author_flair_text': None, 'author_flair_text_color': None, 'author_flair_type': 'text', 'author_fullname': 't2_1xtyd', 'author_patreon_flair': False, 'awarders': [], 'banned_at_utc': None, 'body': 'This is why I funded and am giving away http://TheClimateTrail.com.', 'can_mod_post': False, 'collapsed': False, 'collapsed_reason': None, 'created_utc': 1570473710, 'distinguished': None, 'edited': False, 'gildings': {}, 'id': 'f2x4lya', 'is_submitter': False, 'link_id': 't3_deigrz', 'locked': False, 'no_follow': True, 'parent_id': 't3_deigrz', 'permalink': '/r/climate/comments/deigrz/climate_inaction_is_terrifying/f2x4lya/', 'retrieved_on': 1570474109, 'score': 1, 'send_replies': True, 'steward_reports': [], 'stickied': False, 'subreddit': 'climate', 'subreddit_id': 't5_2qhx3', 'total_awards_received': 0}]\n",
      "\n",
      "deigrz\n",
      "f2x833d\n",
      "[{'all_awardings': [], 'approved_at_utc': None, 'author': 'silence7', 'author_flair_background_color': None, 'author_flair_css_class': None, 'author_flair_richtext': [], 'author_flair_template_id': None, 'author_flair_text': None, 'author_flair_text_color': None, 'author_flair_type': 'text', 'author_fullname': 't2_22bd2', 'author_patreon_flair': False, 'awarders': [], 'banned_at_utc': None, 'body': \"That's why the bill includes a charge on imports to effectively impose an emissions tax on them.\", 'can_mod_post': False, 'collapsed': False, 'collapsed_reason': None, 'created_utc': 1570474758, 'distinguished': None, 'edited': False, 'gildings': {}, 'id': 'f2x833d', 'is_submitter': False, 'link_id': 't3_deigrz', 'locked': False, 'no_follow': True, 'parent_id': 't1_f2x43ac', 'permalink': '/r/climate/comments/deigrz/climate_inaction_is_terrifying/f2x833d/', 'retrieved_on': 1570475513, 'score': 1, 'send_replies': True, 'steward_reports': [], 'stickied': False, 'subreddit': 'climate', 'subreddit_id': 't5_2qhx3', 'total_awards_received': 0}]\n",
      "\n",
      "deigrz\n",
      "f2x9yfr\n",
      "[{'all_awardings': [], 'approved_at_utc': None, 'author': 'mistralol', 'author_flair_background_color': None, 'author_flair_css_class': None, 'author_flair_richtext': [], 'author_flair_template_id': None, 'author_flair_text': None, 'author_flair_text_color': None, 'author_flair_type': 'text', 'author_fullname': 't2_4ly91', 'author_patreon_flair': False, 'awarders': [], 'banned_at_utc': None, 'body': 'I think you mis-understand my point. The places where some of these things are made will race to the bottom in order to make the prices even cheaper causing even more pollution.', 'can_mod_post': False, 'collapsed': False, 'collapsed_reason': None, 'created_utc': 1570475370, 'distinguished': None, 'edited': False, 'gildings': {}, 'id': 'f2x9yfr', 'is_submitter': False, 'link_id': 't3_deigrz', 'locked': False, 'no_follow': True, 'parent_id': 't1_f2x833d', 'permalink': '/r/climate/comments/deigrz/climate_inaction_is_terrifying/f2x9yfr/', 'retrieved_on': 1570476172, 'score': 1, 'send_replies': True, 'steward_reports': [], 'stickied': False, 'subreddit': 'climate', 'subreddit_id': 't5_2qhx3', 'total_awards_received': 0}]\n",
      "\n"
     ]
    },
    {
     "name": "stdout",
     "output_type": "stream",
     "text": [
      "deigrz\n",
      "f2xb4bu\n",
      "[{'all_awardings': [], 'approved_at_utc': None, 'author': 'ILikeNeurons', 'author_flair_background_color': None, 'author_flair_css_class': None, 'author_flair_richtext': [], 'author_flair_template_id': None, 'author_flair_text': None, 'author_flair_text_color': None, 'author_flair_type': 'text', 'author_fullname': 't2_9cki6', 'author_patreon_flair': False, 'awarders': [], 'banned_at_utc': None, 'body': 'Is this like a modern Oregon Trail?', 'can_mod_post': False, 'collapsed': False, 'collapsed_reason': None, 'created_utc': 1570475759, 'distinguished': None, 'edited': False, 'gildings': {}, 'id': 'f2xb4bu', 'is_submitter': False, 'link_id': 't3_deigrz', 'locked': False, 'no_follow': True, 'parent_id': 't1_f2x4lya', 'permalink': '/r/climate/comments/deigrz/climate_inaction_is_terrifying/f2xb4bu/', 'retrieved_on': 1570476585, 'score': 1, 'send_replies': True, 'steward_reports': [], 'stickied': False, 'subreddit': 'climate', 'subreddit_id': 't5_2qhx3', 'total_awards_received': 0}]\n",
      "\n",
      "deigrz\n",
      "f2xbcuw\n",
      "[{'all_awardings': [], 'approved_at_utc': None, 'author': 'ILikeNeurons', 'author_flair_background_color': None, 'author_flair_css_class': None, 'author_flair_richtext': [], 'author_flair_template_id': None, 'author_flair_text': None, 'author_flair_text_color': None, 'author_flair_type': 'text', 'author_fullname': 't2_9cki6', 'author_patreon_flair': False, 'awarders': [], 'banned_at_utc': None, 'body': \"H.R. 763 is basically [CCL's policy](https://www.theguardian.com/environment/climate-consensus-97-per-cent/2014/jun/13/how-revenue-neutral-carbon-tax-creates-jobs-grows-economy). Like pretty much every carbon pricing bill, it covers industry.\", 'can_mod_post': False, 'collapsed': False, 'collapsed_reason': None, 'created_utc': 1570475846, 'distinguished': None, 'edited': False, 'gildings': {}, 'id': 'f2xbcuw', 'is_submitter': False, 'link_id': 't3_deigrz', 'locked': False, 'no_follow': True, 'parent_id': 't1_f2x43ac', 'permalink': '/r/climate/comments/deigrz/climate_inaction_is_terrifying/f2xbcuw/', 'retrieved_on': 1570476670, 'score': 1, 'send_replies': True, 'steward_reports': [], 'stickied': False, 'subreddit': 'climate', 'subreddit_id': 't5_2qhx3', 'total_awards_received': 0}]\n",
      "\n",
      "deigrz\n",
      "f2xbmli\n",
      "[{'all_awardings': [], 'approved_at_utc': None, 'author': 'ILikeNeurons', 'author_flair_background_color': None, 'author_flair_css_class': None, 'author_flair_richtext': [], 'author_flair_template_id': None, 'author_flair_text': None, 'author_flair_text_color': None, 'author_flair_type': 'text', 'author_fullname': 't2_9cki6', 'author_patreon_flair': False, 'awarders': [], 'banned_at_utc': None, 'body': \"[It doesn't really work like that](https://link.springer.com/content/pdf/10.1007/s10640-007-9091-x.pdf). \\n\\nWe can implement a [border adjustment](http://papers.ssrn.com/sol3/papers.cfm?abstract_id=2026879) once we're pricing our own carbon pollution.\", 'can_mod_post': False, 'collapsed': False, 'collapsed_reason': None, 'created_utc': 1570475957, 'distinguished': None, 'edited': False, 'gildings': {}, 'id': 'f2xbmli', 'is_submitter': False, 'link_id': 't3_deigrz', 'locked': False, 'no_follow': True, 'parent_id': 't1_f2x9yfr', 'permalink': '/r/climate/comments/deigrz/climate_inaction_is_terrifying/f2xbmli/', 'retrieved_on': 1570476776, 'score': 1, 'send_replies': True, 'steward_reports': [], 'stickied': False, 'subreddit': 'climate', 'subreddit_id': 't5_2qhx3', 'total_awards_received': 0}]\n",
      "\n",
      "deigrz\n",
      "f2xbsyu\n",
      "[{'all_awardings': [], 'approved_at_utc': None, 'author': 'silence7', 'author_flair_background_color': None, 'author_flair_css_class': None, 'author_flair_richtext': [], 'author_flair_template_id': None, 'author_flair_text': None, 'author_flair_text_color': None, 'author_flair_type': 'text', 'author_fullname': 't2_22bd2', 'author_patreon_flair': False, 'awarders': [], 'banned_at_utc': None, 'body': \"So that makes the price go up even more -- the price assigned on an import is based on the embedded greenhouse gas emissions associated with it.  You can't win by playing that game anymore if HR 763 were to become law.\", 'can_mod_post': False, 'collapsed': False, 'collapsed_reason': None, 'created_utc': 1570476039, 'distinguished': None, 'edited': False, 'gildings': {}, 'id': 'f2xbsyu', 'is_submitter': False, 'link_id': 't3_deigrz', 'locked': False, 'no_follow': True, 'parent_id': 't1_f2x9yfr', 'permalink': '/r/climate/comments/deigrz/climate_inaction_is_terrifying/f2xbsyu/', 'retrieved_on': 1570476852, 'score': 1, 'send_replies': True, 'steward_reports': [], 'stickied': False, 'subreddit': 'climate', 'subreddit_id': 't5_2qhx3', 'total_awards_received': 0}]\n",
      "\n",
      "deigrz\n",
      "f2xc81s\n",
      "[{'all_awardings': [], 'approved_at_utc': None, 'author': 'shminder', 'author_flair_background_color': None, 'author_flair_css_class': None, 'author_flair_richtext': [], 'author_flair_template_id': None, 'author_flair_text': None, 'author_flair_text_color': None, 'author_flair_type': 'text', 'author_fullname': 't2_sytbm', 'author_patreon_flair': False, 'awarders': [], 'banned_at_utc': None, 'body': 'Thank you! I just signed up', 'can_mod_post': False, 'collapsed': False, 'collapsed_reason': None, 'created_utc': 1570476261, 'distinguished': None, 'edited': False, 'gildings': {}, 'id': 'f2xc81s', 'is_submitter': False, 'link_id': 't3_deigrz', 'locked': False, 'no_follow': True, 'parent_id': 't1_f2wqjx1', 'permalink': '/r/climate/comments/deigrz/climate_inaction_is_terrifying/f2xc81s/', 'retrieved_on': 1570477045, 'score': 1, 'send_replies': True, 'steward_reports': [], 'stickied': False, 'subreddit': 'climate', 'subreddit_id': 't5_2qhx3', 'total_awards_received': 0}]\n",
      "\n",
      "deigrz\n",
      "f2xdefu\n",
      "[{'all_awardings': [], 'approved_at_utc': None, 'author': 'mistralol', 'author_flair_background_color': None, 'author_flair_css_class': None, 'author_flair_richtext': [], 'author_flair_template_id': None, 'author_flair_text': None, 'author_flair_text_color': None, 'author_flair_type': 'text', 'author_fullname': 't2_4ly91', 'author_patreon_flair': False, 'awarders': [], 'banned_at_utc': None, 'body': 'Ok. Keep telling yourself that. We will see in 5-10 years. then we will know who is right!', 'can_mod_post': False, 'collapsed': False, 'collapsed_reason': None, 'created_utc': 1570476861, 'distinguished': None, 'edited': False, 'gildings': {}, 'id': 'f2xdefu', 'is_submitter': False, 'link_id': 't3_deigrz', 'locked': False, 'no_follow': True, 'parent_id': 't1_f2xbsyu', 'permalink': '/r/climate/comments/deigrz/climate_inaction_is_terrifying/f2xdefu/', 'retrieved_on': 1570477595, 'score': 1, 'send_replies': True, 'steward_reports': [], 'stickied': False, 'subreddit': 'climate', 'subreddit_id': 't5_2qhx3', 'total_awards_received': 0}]\n",
      "\n",
      "deigrz\n",
      "f2xf8fb\n",
      "[{'all_awardings': [], 'approved_at_utc': None, 'author': 'bikingbill', 'author_flair_background_color': None, 'author_flair_css_class': None, 'author_flair_richtext': [], 'author_flair_template_id': None, 'author_flair_text': None, 'author_flair_text_color': None, 'author_flair_type': 'text', 'author_fullname': 't2_1xtyd', 'author_patreon_flair': False, 'awarders': [], 'banned_at_utc': None, 'body': 'Yep. Oregon Trail + Visual Novel + Educational.  I’m giving it away. Free + No Ads + No IAP.', 'can_mod_post': False, 'collapsed': False, 'collapsed_reason': None, 'created_utc': 1570477737, 'distinguished': None, 'edited': False, 'gildings': {}, 'id': 'f2xf8fb', 'is_submitter': False, 'link_id': 't3_deigrz', 'locked': False, 'no_follow': True, 'parent_id': 't1_f2xb4bu', 'permalink': '/r/climate/comments/deigrz/climate_inaction_is_terrifying/f2xf8fb/', 'retrieved_on': 1570478427, 'score': 1, 'send_replies': True, 'steward_reports': [], 'stickied': False, 'subreddit': 'climate', 'subreddit_id': 't5_2qhx3', 'total_awards_received': 0}]\n",
      "\n",
      "deigrz\n",
      "f2xfqp9\n",
      "[{'all_awardings': [], 'approved_at_utc': None, 'author': 'robot65536', 'author_flair_background_color': None, 'author_flair_css_class': None, 'author_flair_richtext': [], 'author_flair_template_id': None, 'author_flair_text': None, 'author_flair_text_color': None, 'author_flair_type': 'text', 'author_fullname': 't2_s1nh175', 'author_patreon_flair': False, 'awarders': [], 'banned_at_utc': None, 'body': 'The new [EZ-Climate Carbon Pricing Model](https://www.pnas.org/content/early/2019/09/30/1817444116) I believe is a great advancement in the discussion.  It uses economic risk pricing and behavioral realities to show that the best (not \"optimal\") carbon price is to start high and only lower it once we have prevented the tipping points from occurring.  Existing models like Canada\\'s are based on small, escalating damages and don\\'t correctly price the risk of future damages.\\n\\nI always argue that starting low and ratcheting it up (on timelines more than a couple of years) won\\'t drive the immediate change we need.  Adept business managers will see the writing on the wall, but most will be like frogs in a boiling pot and simply pass on the costs of business as usual until they cause an economic slow-down.  A sudden increase in the carbon price, by $50 or $100/ton in a year or two, would force everyone to acknowledge that action is required.  Economic growth will slow down eventually either way, so we should make sure it has the maximum positive impact.', 'can_mod_post': False, 'collapsed': False, 'collapsed_reason': None, 'created_utc': 1570477900, 'distinguished': None, 'edited': False, 'gildings': {}, 'id': 'f2xfqp9', 'is_submitter': False, 'link_id': 't3_deigrz', 'locked': False, 'no_follow': True, 'parent_id': 't1_f2wqjx1', 'permalink': '/r/climate/comments/deigrz/climate_inaction_is_terrifying/f2xfqp9/', 'retrieved_on': 1570478603, 'score': 1, 'send_replies': True, 'steward_reports': [], 'stickied': False, 'subreddit': 'climate', 'subreddit_id': 't5_2qhx3', 'total_awards_received': 0}]\n",
      "\n"
     ]
    },
    {
     "name": "stdout",
     "output_type": "stream",
     "text": [
      "deigrz\n",
      "f2xhfwz\n",
      "[{'all_awardings': [], 'approved_at_utc': None, 'author': 'ILikeNeurons', 'author_flair_background_color': None, 'author_flair_css_class': None, 'author_flair_richtext': [], 'author_flair_template_id': None, 'author_flair_text': None, 'author_flair_text_color': None, 'author_flair_type': 'text', 'author_fullname': 't2_9cki6', 'author_patreon_flair': False, 'awarders': [], 'banned_at_utc': None, 'body': \"A policy like [Canada's](https://www.theguardian.com/environment/climate-consensus-97-per-cent/2018/oct/26/canada-passed-a-carbon-tax-that-will-give-most-canadians-more-money) will [greatly reduce emissions](https://www.theguardian.com/environment/climate-consensus-97-per-cent/2014/jun/13/how-revenue-neutral-carbon-tax-creates-jobs-grows-economy), in line with [what scientists say is needed to stay below 1.5 ºC](https://en.wikipedia.org/wiki/Special_Report_on_Global_Warming_of_1.5_%C2%B0C).  \\n\\nI'm not personally opposed to the EZ-Climate Carbon Pricing Model, but I also think it runs a much higher risk of being repealed in the next election cycle, as happened in Australia, and I think the absolute worst outcome is no carbon pricing.\", 'can_mod_post': False, 'collapsed': False, 'collapsed_reason': None, 'created_utc': 1570478441, 'distinguished': None, 'edited': False, 'gildings': {}, 'id': 'f2xhfwz', 'is_submitter': False, 'link_id': 't3_deigrz', 'locked': False, 'no_follow': True, 'parent_id': 't1_f2xfqp9', 'permalink': '/r/climate/comments/deigrz/climate_inaction_is_terrifying/f2xhfwz/', 'retrieved_on': 1570479200, 'score': 1, 'send_replies': True, 'steward_reports': [], 'stickied': False, 'subreddit': 'climate', 'subreddit_id': 't5_2qhx3', 'total_awards_received': 0}]\n",
      "\n",
      "deigrz\n",
      "f2xhxjo\n",
      "[{'all_awardings': [], 'approved_at_utc': None, 'author': 'ILikeNeurons', 'author_flair_background_color': None, 'author_flair_css_class': None, 'author_flair_richtext': [], 'author_flair_template_id': None, 'author_flair_text': None, 'author_flair_text_color': None, 'author_flair_type': 'text', 'author_fullname': 't2_9cki6', 'author_patreon_flair': False, 'awarders': [], 'banned_at_utc': None, 'body': \"Thanks for taking that first step! If you're looking for next steps, here's what I'd recommend:\\n\\n1. [Sign up for the Intro Call for new volunteers](https://citizensclimatelobby.org/join-weekly-intro-call/) \\n\\n2. [Take the Climate Advocate Training](https://citizensclimatelobby.org/new-member/#climateadvocatetraining)\\n\\n3. [Get in touch with your local chapter leader](https://citizensclimatelobby.org/about-ccl/chapters/) (there are [chapters all over the world](https://citizensclimatelobby.org/about-ccl/chapters/)) and find out how you can best leverage your time, skills, and connections to [create the political world for a livable climate](https://citizensclimatelobby.org/about-ccl/levers-of-political-will/).\\n\\n4. Sign up for CCLCommunity. Be sure you edit your CCL Community Profile to reflect your interests in CCL so your local chapter leaders can connect you with relevant opportunities. \\n\\n5. Start [training](https://community.citizensclimate.org/topics) in whichever topics most interest you and that are most needed in your area. The training is available on [CCL Community](https://community.citizensclimate.org/topics), on [YouTube](https://www.youtube.com/channel/UCWuCkmi8ySLMTZEpJC7jMsA), or in podcast form, so choose whichever best fits with your lifestyle.\\n\\n6. Invite your friends, family, and neighbors to join you.\", 'can_mod_post': False, 'collapsed': False, 'collapsed_reason': None, 'created_utc': 1570478598, 'distinguished': None, 'edited': False, 'gildings': {}, 'id': 'f2xhxjo', 'is_submitter': False, 'link_id': 't3_deigrz', 'locked': False, 'no_follow': True, 'parent_id': 't1_f2xc81s', 'permalink': '/r/climate/comments/deigrz/climate_inaction_is_terrifying/f2xhxjo/', 'retrieved_on': 1570479370, 'score': 1, 'send_replies': True, 'steward_reports': [], 'stickied': False, 'subreddit': 'climate', 'subreddit_id': 't5_2qhx3', 'total_awards_received': 0}]\n",
      "\n",
      "deigrz\n",
      "f2xige6\n",
      "[{'all_awardings': [], 'approved_at_utc': None, 'author': 'ILikeNeurons', 'author_flair_background_color': None, 'author_flair_css_class': None, 'author_flair_richtext': [], 'author_flair_template_id': None, 'author_flair_text': None, 'author_flair_text_color': None, 'author_flair_type': 'text', 'author_fullname': 't2_9cki6', 'author_patreon_flair': False, 'awarders': [], 'banned_at_utc': None, 'body': \"The special report recommended a carbon price. Let's start with that. \\n\\n[A carbon tax would accelerate the adoption of every other solution](https://www.drawdown.org/frequently-asked-questions).\", 'can_mod_post': False, 'collapsed': False, 'collapsed_reason': None, 'created_utc': 1570478768, 'distinguished': None, 'edited': False, 'gildings': {}, 'id': 'f2xige6', 'is_submitter': False, 'link_id': 't3_deigrz', 'locked': False, 'no_follow': True, 'parent_id': 't1_f2wk205', 'permalink': '/r/climate/comments/deigrz/climate_inaction_is_terrifying/f2xige6/', 'retrieved_on': 1570479560, 'score': 1, 'send_replies': True, 'steward_reports': [], 'stickied': False, 'subreddit': 'climate', 'subreddit_id': 't5_2qhx3', 'total_awards_received': 0}]\n",
      "\n",
      "deigrz\n",
      "f2xijun\n",
      "[{'all_awardings': [], 'approved_at_utc': None, 'author': 'StonerMeditation', 'author_flair_background_color': None, 'author_flair_css_class': None, 'author_flair_richtext': [], 'author_flair_template_id': None, 'author_flair_text': None, 'author_flair_text_color': None, 'author_flair_type': 'text', 'author_fullname': 't2_g4ngl', 'author_patreon_flair': False, 'awarders': [], 'banned_at_utc': None, 'body': 'Action?  Please see /r/extinctionRebellion', 'can_mod_post': False, 'collapsed': False, 'collapsed_reason': None, 'created_utc': 1570478800, 'distinguished': None, 'edited': False, 'gildings': {}, 'id': 'f2xijun', 'is_submitter': False, 'link_id': 't3_deigrz', 'locked': False, 'no_follow': True, 'parent_id': 't3_deigrz', 'permalink': '/r/climate/comments/deigrz/climate_inaction_is_terrifying/f2xijun/', 'retrieved_on': 1570479595, 'score': 1, 'send_replies': True, 'steward_reports': [], 'stickied': False, 'subreddit': 'climate', 'subreddit_id': 't5_2qhx3', 'total_awards_received': 0}]\n",
      "\n",
      "deigrz\n",
      "f2xjh29\n",
      "[{'all_awardings': [], 'approved_at_utc': None, 'author': 'ILikeNeurons', 'author_flair_background_color': None, 'author_flair_css_class': None, 'author_flair_richtext': [], 'author_flair_template_id': None, 'author_flair_text': None, 'author_flair_text_color': None, 'author_flair_type': 'text', 'author_fullname': 't2_9cki6', 'author_patreon_flair': False, 'awarders': [], 'banned_at_utc': None, 'body': \"[We already know carbon pricing works](https://www.ipcc.ch/site/assets/uploads/2018/02/ipcc_wg3_ar5_summary-for-policymakers.pdf). That part isn't controversial.\", 'can_mod_post': False, 'collapsed': False, 'collapsed_reason': None, 'created_utc': 1570479085, 'distinguished': None, 'edited': False, 'gildings': {}, 'id': 'f2xjh29', 'is_submitter': False, 'link_id': 't3_deigrz', 'locked': False, 'no_follow': True, 'parent_id': 't1_f2xdefu', 'permalink': '/r/climate/comments/deigrz/climate_inaction_is_terrifying/f2xjh29/', 'retrieved_on': 1570479949, 'score': 1, 'send_replies': True, 'steward_reports': [], 'stickied': False, 'subreddit': 'climate', 'subreddit_id': 't5_2qhx3', 'total_awards_received': 0}]\n",
      "\n",
      "deigrz\n",
      "f2xlafc\n",
      "[{'all_awardings': [], 'approved_at_utc': None, 'author': 'mistralol', 'author_flair_background_color': None, 'author_flair_css_class': None, 'author_flair_richtext': [], 'author_flair_template_id': None, 'author_flair_text': None, 'author_flair_text_color': None, 'author_flair_type': 'text', 'author_fullname': 't2_4ly91', 'author_patreon_flair': False, 'awarders': [], 'banned_at_utc': None, 'body': 'You have this so wrong. Realise the accounting for those figures is being bypassed.\\n\\nTake a look at [https://ourworldindata.org/co2-and-other-greenhouse-gas-emissions](https://ourworldindata.org/co2-and-other-greenhouse-gas-emissions)\\n\\nLook at the EU-28, EU, USA and the western world. There is a decline. Look at the rest of the world. They directly replaced that decline and added even more.\\n\\nYou have to realise your \"policy\" does not apply to everyone. It is being side stepped and ignored. It moved the problem rather than resolved it.', 'can_mod_post': False, 'collapsed': False, 'collapsed_reason': None, 'created_utc': 1570479677, 'distinguished': None, 'edited': False, 'gildings': {}, 'id': 'f2xlafc', 'is_submitter': False, 'link_id': 't3_deigrz', 'locked': False, 'no_follow': True, 'parent_id': 't1_f2xjh29', 'permalink': '/r/climate/comments/deigrz/climate_inaction_is_terrifying/f2xlafc/', 'retrieved_on': 1570480594, 'score': 1, 'send_replies': True, 'steward_reports': [], 'stickied': False, 'subreddit': 'climate', 'subreddit_id': 't5_2qhx3', 'total_awards_received': 0}]\n",
      "\n"
     ]
    },
    {
     "name": "stdout",
     "output_type": "stream",
     "text": [
      "deigrz\n",
      "f2xm5hy\n",
      "[{'all_awardings': [], 'approved_at_utc': None, 'author': 'robot65536', 'author_flair_background_color': None, 'author_flair_css_class': None, 'author_flair_richtext': [], 'author_flair_template_id': None, 'author_flair_text': None, 'author_flair_text_color': None, 'author_flair_type': 'text', 'author_fullname': 't2_s1nh175', 'author_patreon_flair': False, 'awarders': [], 'banned_at_utc': None, 'body': \"Canada at least made the ramp-up relatively fast.  If it can get to $50/t within a year or two without being repealed, they will be a good position to keep going.  \\n\\nNow that I look at them, I see H.R.763 has an escalation of $10/year, and S.2284 has $15/year and $30/year if emissions don't drop enough.  Much more aggressive than I was expecting.\\n\\nI wonder if EZ-Climate accounts for how businesses respond to the scheduled escalation--in a lot of ways that's exactly the encouragement they need to invest and meet targets before the price changes too much.\", 'can_mod_post': False, 'collapsed': False, 'collapsed_reason': None, 'created_utc': 1570479943, 'distinguished': None, 'edited': False, 'gildings': {}, 'id': 'f2xm5hy', 'is_submitter': False, 'link_id': 't3_deigrz', 'locked': False, 'no_follow': True, 'parent_id': 't1_f2xhfwz', 'permalink': '/r/climate/comments/deigrz/climate_inaction_is_terrifying/f2xm5hy/', 'retrieved_on': 1570480895, 'score': 1, 'send_replies': True, 'steward_reports': [], 'stickied': False, 'subreddit': 'climate', 'subreddit_id': 't5_2qhx3', 'total_awards_received': 0}]\n",
      "\n",
      "deigrz\n",
      "f2xpqti\n",
      "[{'all_awardings': [], 'approved_at_utc': None, 'author': 'silence7', 'author_flair_background_color': None, 'author_flair_css_class': None, 'author_flair_richtext': [], 'author_flair_template_id': None, 'author_flair_text': None, 'author_flair_text_color': None, 'author_flair_type': 'text', 'author_fullname': 't2_22bd2', 'author_patreon_flair': False, 'awarders': [], 'banned_at_utc': None, 'body': \"How exactly did a carbon tax impact US policy or imports when there isn't one in effect yet?\", 'can_mod_post': False, 'collapsed': False, 'collapsed_reason': None, 'created_utc': 1570481100, 'distinguished': None, 'edited': False, 'gildings': {}, 'id': 'f2xpqti', 'is_submitter': False, 'link_id': 't3_deigrz', 'locked': False, 'no_follow': True, 'parent_id': 't1_f2xlafc', 'permalink': '/r/climate/comments/deigrz/climate_inaction_is_terrifying/f2xpqti/', 'retrieved_on': 1570482214, 'score': 1, 'send_replies': True, 'steward_reports': [], 'stickied': False, 'subreddit': 'climate', 'subreddit_id': 't5_2qhx3', 'total_awards_received': 0}]\n",
      "\n",
      "deigrz\n",
      "f2xr13z\n",
      "[{'all_awardings': [], 'approved_at_utc': None, 'author': 'mistralol', 'author_flair_background_color': None, 'author_flair_css_class': None, 'author_flair_richtext': [], 'author_flair_template_id': None, 'author_flair_text': None, 'author_flair_text_color': None, 'author_flair_type': 'text', 'author_fullname': 't2_4ly91', 'author_patreon_flair': False, 'awarders': [], 'banned_at_utc': None, 'body': 'I am not using the US as a base. But the EU. The US is coping the EU... badly.', 'can_mod_post': False, 'collapsed': False, 'collapsed_reason': None, 'created_utc': 1570481529, 'distinguished': None, 'edited': False, 'gildings': {}, 'id': 'f2xr13z', 'is_submitter': False, 'link_id': 't3_deigrz', 'locked': False, 'no_follow': True, 'parent_id': 't1_f2xpqti', 'permalink': '/r/climate/comments/deigrz/climate_inaction_is_terrifying/f2xr13z/', 'retrieved_on': 1570482668, 'score': 1, 'send_replies': True, 'steward_reports': [], 'stickied': False, 'subreddit': 'climate', 'subreddit_id': 't5_2qhx3', 'total_awards_received': 0}]\n",
      "\n",
      "deigrz\n",
      "f2xsxdw\n",
      "[{'all_awardings': [], 'approved_at_utc': None, 'author': 'silence7', 'author_flair_background_color': None, 'author_flair_css_class': None, 'author_flair_richtext': [], 'author_flair_template_id': None, 'author_flair_text': None, 'author_flair_text_color': None, 'author_flair_type': 'text', 'author_fullname': 't2_22bd2', 'author_patreon_flair': False, 'awarders': [], 'banned_at_utc': None, 'body': 'The EU and US followed a similar pattern to the US.  I really think the effects you see are a result of cheap natural gas for electric generation, plus a bunch of trade policy which encouraged trade, rather than a climate policy or carbon tax.', 'can_mod_post': False, 'collapsed': False, 'collapsed_reason': None, 'created_utc': 1570482148, 'distinguished': None, 'edited': False, 'gildings': {}, 'id': 'f2xsxdw', 'is_submitter': False, 'link_id': 't3_deigrz', 'locked': False, 'no_follow': True, 'parent_id': 't1_f2xr13z', 'permalink': '/r/climate/comments/deigrz/climate_inaction_is_terrifying/f2xsxdw/', 'retrieved_on': 1570483316, 'score': 1, 'send_replies': True, 'steward_reports': [], 'stickied': False, 'subreddit': 'climate', 'subreddit_id': 't5_2qhx3', 'total_awards_received': 0}]\n",
      "\n",
      "deigrz\n",
      "f2xunmt\n",
      "[{'all_awardings': [], 'approved_at_utc': None, 'author': 'cirifoba', 'author_flair_background_color': None, 'author_flair_css_class': None, 'author_flair_richtext': [], 'author_flair_template_id': None, 'author_flair_text': None, 'author_flair_text_color': None, 'author_flair_type': 'text', 'author_fullname': 't2_4ez53nqy', 'author_patreon_flair': False, 'awarders': [], 'banned_at_utc': None, 'body': 'Extinction is not the problem but the suffering while we are still here.', 'can_mod_post': False, 'collapsed': False, 'collapsed_reason': None, 'created_utc': 1570482729, 'distinguished': None, 'edited': False, 'gildings': {}, 'id': 'f2xunmt', 'is_submitter': False, 'link_id': 't3_deigrz', 'locked': False, 'no_follow': True, 'parent_id': 't3_deigrz', 'permalink': '/r/climate/comments/deigrz/climate_inaction_is_terrifying/f2xunmt/', 'retrieved_on': 1570483907, 'score': 1, 'send_replies': True, 'steward_reports': [], 'stickied': False, 'subreddit': 'climate', 'subreddit_id': 't5_2qhx3', 'total_awards_received': 0}]\n",
      "\n",
      "deigrz\n",
      "f2y45pm\n",
      "[{'all_awardings': [], 'approved_at_utc': None, 'author': 'ILikeNeurons', 'author_flair_background_color': None, 'author_flair_css_class': None, 'author_flair_richtext': [], 'author_flair_template_id': None, 'author_flair_text': None, 'author_flair_text_color': None, 'author_flair_type': 'text', 'author_fullname': 't2_9cki6', 'author_patreon_flair': False, 'awarders': [], 'banned_at_utc': None, 'body': \"Again, [that's not the problem you seem to think it is](https://link.springer.com/content/pdf/10.1007/s10640-007-9091-x.pdf).\", 'can_mod_post': False, 'collapsed': False, 'collapsed_reason': None, 'created_utc': 1570485952, 'distinguished': None, 'edited': False, 'gildings': {}, 'id': 'f2y45pm', 'is_submitter': False, 'link_id': 't3_deigrz', 'locked': False, 'no_follow': True, 'parent_id': 't1_f2xlafc', 'permalink': '/r/climate/comments/deigrz/climate_inaction_is_terrifying/f2y45pm/', 'retrieved_on': 1570487269, 'score': 1, 'send_replies': True, 'steward_reports': [], 'stickied': False, 'subreddit': 'climate', 'subreddit_id': 't5_2qhx3', 'total_awards_received': 0}]\n",
      "\n",
      "deigrz\n",
      "f2y4gjd\n",
      "[{'all_awardings': [], 'approved_at_utc': None, 'author': 'ILikeNeurons', 'author_flair_background_color': None, 'author_flair_css_class': None, 'author_flair_richtext': [], 'author_flair_template_id': None, 'author_flair_text': None, 'author_flair_text_color': None, 'author_flair_type': 'text', 'author_fullname': 't2_9cki6', 'author_patreon_flair': False, 'awarders': [], 'banned_at_utc': None, 'body': \"Yeah, I'd love to see an AMA with the study authors.\", 'can_mod_post': False, 'collapsed': False, 'collapsed_reason': None, 'created_utc': 1570486052, 'distinguished': None, 'edited': False, 'gildings': {}, 'id': 'f2y4gjd', 'is_submitter': False, 'link_id': 't3_deigrz', 'locked': False, 'no_follow': True, 'parent_id': 't1_f2xm5hy', 'permalink': '/r/climate/comments/deigrz/climate_inaction_is_terrifying/f2y4gjd/', 'retrieved_on': 1570487383, 'score': 1, 'send_replies': True, 'steward_reports': [], 'stickied': False, 'subreddit': 'climate', 'subreddit_id': 't5_2qhx3', 'total_awards_received': 0}]\n",
      "\n",
      "deigrz\n",
      "f2z58wl\n",
      "[{'all_awardings': [], 'approved_at_utc': None, 'author': 'beigs', 'author_flair_background_color': None, 'author_flair_css_class': None, 'author_flair_richtext': [], 'author_flair_template_id': None, 'author_flair_text': None, 'author_flair_text_color': None, 'author_flair_type': 'text', 'author_fullname': 't2_8ym16', 'author_patreon_flair': False, 'awarders': [], 'banned_at_utc': None, 'body': 'Let’s hope the liberals stay in government. The conservatives are planning on scrapping that policy', 'can_mod_post': False, 'collapsed': False, 'collapsed_reason': None, 'created_utc': 1570506891, 'distinguished': None, 'edited': False, 'gildings': {}, 'id': 'f2z58wl', 'is_submitter': False, 'link_id': 't3_deigrz', 'locked': False, 'no_follow': True, 'parent_id': 't1_f2xhfwz', 'permalink': '/r/climate/comments/deigrz/climate_inaction_is_terrifying/f2z58wl/', 'retrieved_on': 1570506893, 'score': 1, 'send_replies': True, 'steward_reports': [], 'stickied': False, 'subreddit': 'climate', 'subreddit_id': 't5_2qhx3', 'total_awards_received': 0}]\n",
      "\n"
     ]
    },
    {
     "name": "stdout",
     "output_type": "stream",
     "text": [
      "deigrz\n",
      "f2z9kvc\n",
      "[{'all_awardings': [], 'approved_at_utc': None, 'author': 'Togethernotapart', 'author_flair_background_color': None, 'author_flair_css_class': None, 'author_flair_richtext': [], 'author_flair_template_id': None, 'author_flair_text': None, 'author_flair_text_color': None, 'author_flair_type': 'text', 'author_fullname': 't2_xu93ixz', 'author_patreon_flair': False, 'awarders': [], 'banned_at_utc': None, 'body': \"I've not heard of this. Thanks!\", 'can_mod_post': False, 'collapsed': False, 'collapsed_reason': None, 'created_utc': 1570511180, 'distinguished': None, 'edited': False, 'gildings': {}, 'id': 'f2z9kvc', 'is_submitter': False, 'link_id': 't3_deigrz', 'locked': False, 'no_follow': True, 'parent_id': 't1_f2xige6', 'permalink': '/r/climate/comments/deigrz/climate_inaction_is_terrifying/f2z9kvc/', 'retrieved_on': 1570511182, 'score': 1, 'send_replies': True, 'steward_reports': [], 'stickied': False, 'subreddit': 'climate', 'subreddit_id': 't5_2qhx3', 'total_awards_received': 0}]\n",
      "\n",
      "deigrz\n",
      "f302k31\n",
      "[{'all_awardings': [], 'approved_at_utc': None, 'author': 'ILikeNeurons', 'author_flair_background_color': None, 'author_flair_css_class': None, 'author_flair_richtext': [], 'author_flair_template_id': None, 'author_flair_text': None, 'author_flair_text_color': None, 'author_flair_type': 'text', 'author_fullname': 't2_9cki6', 'author_patreon_flair': False, 'awarders': [], 'banned_at_utc': None, 'body': \"If you like Canada's carbon tax, you could sign up for the nonpartisan [Citizens' Climate Lobby](https://citizensclimatelobby.org/join-citizens-climate-lobby/?tfa_3590416195188=reddit-CarbonTax&amp;utm_source=reddit&amp;utm_medium=referral&amp;utm_campaign=CarbonTax), and become an expert on the policy to help protect it from the disinformation campaign. \\n\\nIt sure beats hoping.\", 'can_mod_post': False, 'collapsed': False, 'collapsed_reason': None, 'created_utc': 1570544927, 'distinguished': None, 'edited': False, 'gildings': {}, 'id': 'f302k31', 'is_submitter': False, 'link_id': 't3_deigrz', 'locked': False, 'no_follow': True, 'parent_id': 't1_f2z58wl', 'permalink': '/r/climate/comments/deigrz/climate_inaction_is_terrifying/f302k31/', 'retrieved_on': 1570544928, 'score': 1, 'send_replies': True, 'steward_reports': [], 'stickied': False, 'subreddit': 'climate', 'subreddit_id': 't5_2qhx3', 'total_awards_received': 0}]\n",
      "\n",
      "deigrz\n",
      "f302wnl\n",
      "[{'all_awardings': [], 'approved_at_utc': None, 'author': 'ILikeNeurons', 'author_flair_background_color': None, 'author_flair_css_class': None, 'author_flair_richtext': [], 'author_flair_template_id': None, 'author_flair_text': None, 'author_flair_text_color': None, 'author_flair_type': 'text', 'author_fullname': 't2_9cki6', 'author_patreon_flair': False, 'awarders': [], 'banned_at_utc': None, 'body': \"Sure thing!\\n\\nIf you want to help build the political will for a carbon tax, you could [start training](https://citizensclimatelobby.org/join-citizens-climate-lobby/?tfa_3590416195188=reddit-CarbonTax&amp;utm_source=reddit&amp;utm_medium=referral&amp;utm_campaign=CarbonTax) as a volunteer climate lobbyist. \\n\\n[I've been doing it for some time](https://np.reddit.com/r/worldnews/comments/cfx0aj/greta_thunberg_they_see_us_as_a_threat_because/eudkzof/), and can't recommend it enough.\", 'can_mod_post': False, 'collapsed': False, 'collapsed_reason': None, 'created_utc': 1570545167, 'distinguished': None, 'edited': False, 'gildings': {}, 'id': 'f302wnl', 'is_submitter': False, 'link_id': 't3_deigrz', 'locked': False, 'no_follow': True, 'parent_id': 't1_f2z9kvc', 'permalink': '/r/climate/comments/deigrz/climate_inaction_is_terrifying/f302wnl/', 'retrieved_on': 1570545169, 'score': 1, 'send_replies': True, 'steward_reports': [], 'stickied': False, 'subreddit': 'climate', 'subreddit_id': 't5_2qhx3', 'total_awards_received': 0}]\n",
      "\n",
      "deigrz\n",
      "f31kg93\n",
      "[{'all_awardings': [], 'approved_at_utc': None, 'author': 'beigs', 'author_flair_background_color': None, 'author_flair_css_class': None, 'author_flair_richtext': [], 'author_flair_template_id': None, 'author_flair_text': None, 'author_flair_text_color': None, 'author_flair_type': 'text', 'author_fullname': 't2_8ym16', 'author_patreon_flair': False, 'awarders': [], 'banned_at_utc': None, 'body': 'Will do. I vote green, and do everything I can to help.', 'can_mod_post': False, 'collapsed': False, 'collapsed_reason': None, 'created_utc': 1570577674, 'distinguished': None, 'edited': False, 'gildings': {}, 'id': 'f31kg93', 'is_submitter': False, 'link_id': 't3_deigrz', 'locked': False, 'no_follow': True, 'parent_id': 't1_f302k31', 'permalink': '/r/climate/comments/deigrz/climate_inaction_is_terrifying/f31kg93/', 'retrieved_on': 1570577675, 'score': 1, 'send_replies': True, 'steward_reports': [], 'stickied': False, 'subreddit': 'climate', 'subreddit_id': 't5_2qhx3', 'total_awards_received': 0}]\n",
      "\n",
      "deigrz\n",
      "f34857z\n",
      "[{'all_awardings': [], 'approved_at_utc': None, 'author': 'shminder', 'author_flair_background_color': None, 'author_flair_css_class': None, 'author_flair_richtext': [], 'author_flair_template_id': None, 'author_flair_text': None, 'author_flair_text_color': None, 'author_flair_type': 'text', 'author_fullname': 't2_sytbm', 'author_patreon_flair': False, 'awarders': [], 'banned_at_utc': None, 'body': \"I'm in luck! The next local monthly meeting/training session is this Saturday, so I'll be attending.  Thanks for this helpful guide for getting started.  It can be daunting to get involved with something new, so thanks for making it accessible!\", 'can_mod_post': False, 'collapsed': False, 'collapsed_reason': None, 'created_utc': 1570651152, 'distinguished': None, 'edited': False, 'gildings': {}, 'id': 'f34857z', 'is_submitter': False, 'link_id': 't3_deigrz', 'locked': False, 'no_follow': True, 'parent_id': 't1_f2xhxjo', 'permalink': '/r/climate/comments/deigrz/climate_inaction_is_terrifying/f34857z/', 'retrieved_on': 1570651563, 'score': 1, 'send_replies': True, 'steward_reports': [], 'stickied': False, 'subreddit': 'climate', 'subreddit_id': 't5_2qhx3', 'total_awards_received': 0}]\n",
      "\n",
      "deigrz\n",
      "f34dcb4\n",
      "[{'all_awardings': [], 'approved_at_utc': None, 'author': 'ILikeNeurons', 'author_flair_background_color': None, 'author_flair_css_class': None, 'author_flair_richtext': [], 'author_flair_template_id': None, 'author_flair_text': None, 'author_flair_text_color': None, 'author_flair_type': 'text', 'author_fullname': 't2_9cki6', 'author_patreon_flair': False, 'awarders': [], 'banned_at_utc': None, 'body': 'Glad to hear it, and thanks for the feedback!\\n\\nHappy lobbying!', 'can_mod_post': False, 'collapsed': False, 'collapsed_reason': None, 'created_utc': 1570652740, 'distinguished': None, 'edited': False, 'gildings': {}, 'id': 'f34dcb4', 'is_submitter': False, 'link_id': 't3_deigrz', 'locked': False, 'no_follow': True, 'parent_id': 't1_f34857z', 'permalink': '/r/climate/comments/deigrz/climate_inaction_is_terrifying/f34dcb4/', 'retrieved_on': 1570653496, 'score': 1, 'send_replies': True, 'steward_reports': [], 'stickied': False, 'subreddit': 'climate', 'subreddit_id': 't5_2qhx3', 'total_awards_received': 0}]\n",
      "\n",
      "degm7v\n",
      "f2vgm9f\n",
      "[{'all_awardings': [], 'approved_at_utc': None, 'author': 'Adlermann_nl', 'author_flair_background_color': None, 'author_flair_css_class': None, 'author_flair_richtext': [], 'author_flair_template_id': None, 'author_flair_text': None, 'author_flair_text_color': None, 'author_flair_type': 'text', 'author_fullname': 't2_31hx1x5x', 'author_patreon_flair': False, 'awarders': [], 'banned_at_utc': None, 'body': \"A lot of things are actually happening, but you also have to understand we can't just stop emitting co2 today. That would end our economies. According to the IPCC there is still some time (clock is ticking, agreed). co2 neutral in 2050 (for the entire world) is fast enough. The next 50 and further years we should spend on removing co2 from the atmosphere as well.\\n\\nThe climate accords here in the Netherlands are not perfect, but this is something we can work with. More action would lead to massive civil unrest. this in case could have a worse effect on the climate measures when people start to vote at climate change denying parties here.\", 'can_mod_post': False, 'collapsed': False, 'collapsed_reason': None, 'created_utc': 1570452225, 'distinguished': None, 'edited': False, 'gildings': {}, 'id': 'f2vgm9f', 'is_submitter': False, 'link_id': 't3_deigrz', 'locked': False, 'no_follow': True, 'parent_id': 't3_deigrz', 'permalink': '/r/climate/comments/deigrz/climate_inaction_is_terrifying/f2vgm9f/', 'retrieved_on': 1570452235, 'score': 1, 'send_replies': True, 'steward_reports': [], 'stickied': False, 'subreddit': 'climate', 'subreddit_id': 't5_2qhx3', 'total_awards_received': 0}]\n",
      "\n"
     ]
    },
    {
     "name": "stdout",
     "output_type": "stream",
     "text": [
      "degm7v\n",
      "f2vi38o\n",
      "[{'all_awardings': [], 'approved_at_utc': None, 'author': 'challengingviews', 'author_flair_background_color': None, 'author_flair_css_class': None, 'author_flair_richtext': [], 'author_flair_template_id': None, 'author_flair_text': None, 'author_flair_text_color': None, 'author_flair_type': 'text', 'author_fullname': 't2_e1jcg', 'author_patreon_flair': False, 'awarders': [], 'banned_at_utc': None, 'body': \"Fair point. I only fear that 2050 (30 years from now) is too late. I remember that an IPCC report got a lot of headlines saying that we have 12 years to fix our carbon emitting problem.\\nYou're right that if we abruptly stopped now all carbon emitting, that would be a disaster.\\nI am advocating for plans with a time-frame below 12 years to reach carbon neutrality.\", 'can_mod_post': False, 'collapsed': False, 'collapsed_reason': None, 'created_utc': 1570452887, 'distinguished': None, 'edited': False, 'gildings': {}, 'id': 'f2vi38o', 'is_submitter': True, 'link_id': 't3_deigrz', 'locked': False, 'no_follow': True, 'parent_id': 't1_f2vgm9f', 'permalink': '/r/climate/comments/deigrz/climate_inaction_is_terrifying/f2vi38o/', 'retrieved_on': 1570452899, 'score': 1, 'send_replies': True, 'steward_reports': [], 'stickied': False, 'subreddit': 'climate', 'subreddit_id': 't5_2qhx3', 'total_awards_received': 0}]\n",
      "\n",
      "degm7v\n",
      "f2vubva\n",
      "[{'all_awardings': [], 'approved_at_utc': None, 'author': 'UberFreex', 'author_flair_background_color': None, 'author_flair_css_class': None, 'author_flair_richtext': [], 'author_flair_template_id': None, 'author_flair_text': None, 'author_flair_text_color': None, 'author_flair_type': 'text', 'author_fullname': 't2_35lsj2r1', 'author_patreon_flair': False, 'awarders': [], 'banned_at_utc': None, 'body': \"Exactly why can't we stop emitting CO2 today? Human civilization and our species itself have existed without constantly burning petrol for literally thousands of years. Economies are based on nothing more than faith on reinvestments, which are also paid for with money that has no value.  You're telling me that you'd rather continue to amass fictional sums of wealth than save your own species and perhaps most living species on this planet.  GG\", 'can_mod_post': False, 'collapsed': False, 'collapsed_reason': None, 'created_utc': 1570457495, 'distinguished': None, 'edited': False, 'gildings': {}, 'id': 'f2vubva', 'is_submitter': False, 'link_id': 't3_deigrz', 'locked': False, 'no_follow': True, 'parent_id': 't1_f2vgm9f', 'permalink': '/r/climate/comments/deigrz/climate_inaction_is_terrifying/f2vubva/', 'retrieved_on': 1570457506, 'score': 1, 'send_replies': True, 'steward_reports': [], 'stickied': False, 'subreddit': 'climate', 'subreddit_id': 't5_2qhx3', 'total_awards_received': 0}]\n",
      "\n",
      "degm7v\n",
      "f2w4syd\n",
      "[{'all_awardings': [], 'approved_at_utc': None, 'author': 'MorboThinksYourePuny', 'author_flair_background_color': None, 'author_flair_css_class': None, 'author_flair_richtext': [], 'author_flair_template_id': None, 'author_flair_text': None, 'author_flair_text_color': None, 'author_flair_type': 'text', 'author_fullname': 't2_zkiai', 'author_patreon_flair': False, 'awarders': [], 'banned_at_utc': None, 'body': 'The report you mention is saying that 2050 is good enough.\\n\\nFrom wiki:\\n\"Global net human-caused emissions of carbon dioxide (CO2) would need to fall by about 45 percent from 2010 levels by 2030, reaching \\'net zero\\' around 2050.\"\\n\\nhttps://en.m.wikipedia.org/wiki/Special_Report_on_Global_Warming_of_1.5_°C\\n\\nThis would result in 1.5 C global average temperature vs preindustrial. This is much better than the often repeated 2 C goal and infinitely better than business as usual.\\n\\nThe 12 year thing comes from the interim goal of 45% reduction by 2030, which is a nice round milestone year and highlights the urgency of things.\\n\\n**opinion time!** I think 1.5 C is absurdly optimistic. But, given recent trends in wind/solar/battery costs, I am cautiously optimistic that maybe I can stop calling it absurd and start calling it unlikely...', 'can_mod_post': False, 'collapsed': False, 'collapsed_reason': None, 'created_utc': 1570461305, 'distinguished': None, 'edited': False, 'gildings': {}, 'id': 'f2w4syd', 'is_submitter': False, 'link_id': 't3_deigrz', 'locked': False, 'no_follow': True, 'parent_id': 't1_f2vi38o', 'permalink': '/r/climate/comments/deigrz/climate_inaction_is_terrifying/f2w4syd/', 'retrieved_on': 1570461327, 'score': 1, 'send_replies': True, 'steward_reports': [], 'stickied': False, 'subreddit': 'climate', 'subreddit_id': 't5_2qhx3', 'total_awards_received': 0}]\n",
      "\n",
      "degm7v\n",
      "f2w5ib5\n",
      "[{'all_awardings': [], 'approved_at_utc': None, 'author': 'mistralol', 'author_flair_background_color': None, 'author_flair_css_class': None, 'author_flair_richtext': [], 'author_flair_template_id': None, 'author_flair_text': None, 'author_flair_text_color': None, 'author_flair_type': 'text', 'author_fullname': 't2_4ly91', 'author_patreon_flair': False, 'awarders': [], 'banned_at_utc': None, 'body': \"&gt;Exactly why can't we stop emitting CO2 today\\n\\nCause if you walk around an pull turn off all the coal, gas, oil power stations today. Million of people will not have the means to heat, cook, clean and society would instantly loose things like sanitation, fresh water and all sorts of other things. And this is just one example of many and this doesn't include any other heavy industry.\\n\\nSo in effect it not just a economic problem. But it will actually kill millions of people. Or those people are going to go out chop down tree's for burning in order to stay warm and cook food.\\n\\nPeople just simply are not going to roll over and accept that. You must offer them an alternative viable path which the same quality of life.\\n\\nLike what your asking for is to go back and plow fields by horse and man power. It simply does not scale to our size of population not to mention we have absolutely no tools, skills, knowledge or infrastructure that works like it did before.\", 'can_mod_post': False, 'collapsed': False, 'collapsed_reason': None, 'created_utc': 1570461563, 'distinguished': None, 'edited': False, 'gildings': {}, 'id': 'f2w5ib5', 'is_submitter': False, 'link_id': 't3_deigrz', 'locked': False, 'no_follow': True, 'parent_id': 't1_f2vubva', 'permalink': '/r/climate/comments/deigrz/climate_inaction_is_terrifying/f2w5ib5/', 'retrieved_on': 1570461579, 'score': 1, 'send_replies': True, 'steward_reports': [], 'stickied': False, 'subreddit': 'climate', 'subreddit_id': 't5_2qhx3', 'total_awards_received': 0}]\n",
      "\n",
      "degm7v\n",
      "f2w60lo\n",
      "[{'all_awardings': [], 'approved_at_utc': None, 'author': 'mistralol', 'author_flair_background_color': None, 'author_flair_css_class': None, 'author_flair_richtext': [], 'author_flair_template_id': None, 'author_flair_text': None, 'author_flair_text_color': None, 'author_flair_type': 'text', 'author_fullname': 't2_4ly91', 'author_patreon_flair': False, 'awarders': [], 'banned_at_utc': None, 'body': 'Yeah something you probably should be aware of is that the \"western world\" hasn\\'t met its emissions targets at all. It hasn\\'t even attempted to. It basically outsourced them and stopped accounting for them.\\n\\nThis graph below basically shows the emission cuts in the EU, USA etc.. basically \"moved\" and increased rather than reduced them... and its getting much much worse. We are not even going in the right direction yet....\\n\\n[https://www.theguardian.com/environment/2018/dec/05/brutal-news-global-carbon-emissions-jump-to-all-time-high-in-2018](https://www.theguardian.com/environment/2018/dec/05/brutal-news-global-carbon-emissions-jump-to-all-time-high-in-2018)', 'can_mod_post': False, 'collapsed': False, 'collapsed_reason': None, 'created_utc': 1570461745, 'distinguished': None, 'edited': False, 'gildings': {}, 'id': 'f2w60lo', 'is_submitter': False, 'link_id': 't3_deigrz', 'locked': False, 'no_follow': True, 'parent_id': 't1_f2vi38o', 'permalink': '/r/climate/comments/deigrz/climate_inaction_is_terrifying/f2w60lo/', 'retrieved_on': 1570461761, 'score': 1, 'send_replies': True, 'steward_reports': [], 'stickied': False, 'subreddit': 'climate', 'subreddit_id': 't5_2qhx3', 'total_awards_received': 0}]\n",
      "\n",
      "degm7v\n",
      "f2w7s0v\n",
      "[{'all_awardings': [], 'approved_at_utc': None, 'author': 'mistralol', 'author_flair_background_color': None, 'author_flair_css_class': None, 'author_flair_richtext': [], 'author_flair_template_id': None, 'author_flair_text': None, 'author_flair_text_color': None, 'author_flair_type': 'text', 'author_fullname': 't2_4ly91', 'author_patreon_flair': False, 'awarders': [], 'banned_at_utc': None, 'body': '&gt;opinion time!  \\n&gt;  \\n&gt; I think 1.5 C is absurdly optimistic\\n\\nI think your right. I think the western world has actually done 0 progress so far in this. Mostly because we just outsourced dirty industry to the other side of the world then did not count it on imports.\\n\\n|  But, given recent trends in wind/solar/battery costs\\n\\nI don\\'t even think wind is viable complete solution because of the storage problems. Solar has much the same problem especially where I live where we get &lt; 6 hours daylight in winter (when we use power the most).\\n\\nThe number for wind, solar basically don\\'t add up.\\n\\nLike for an example wind as a complete solution assuming storage works. Assuming you have wind 30% of the time all year round. You need to be able to generate 3x the wind power than what is currently used. then it needs stored. Where you have 5-10% losses each way when doing so.\\n\\nBut the maths really don\\'t addup when you consider than electric is actually only about 30-35% of what we use energy wise. So in the EU its 18% \"wind generation capacity\" (lets round it up to 20%). So we need 5x what we currently have to get to 100% then multiple it by around 3.5x for the days its not windy.\\n\\nDon\\'t get me wrong here.. Its helps. It\\'s just no a solution cause for now we still need all the existing infrastructure and large industrial plants like oil, gas, coal power stations just don\\'t turn off / on quickly.\\n\\nPersonally I think we are getting things really really wrong.', 'can_mod_post': False, 'collapsed': False, 'collapsed_reason': None, 'created_utc': 1570462416, 'distinguished': None, 'edited': False, 'gildings': {}, 'id': 'f2w7s0v', 'is_submitter': False, 'link_id': 't3_deigrz', 'locked': False, 'no_follow': True, 'parent_id': 't1_f2w4syd', 'permalink': '/r/climate/comments/deigrz/climate_inaction_is_terrifying/f2w7s0v/', 'retrieved_on': 1570462427, 'score': 1, 'send_replies': True, 'steward_reports': [], 'stickied': False, 'subreddit': 'climate', 'subreddit_id': 't5_2qhx3', 'total_awards_received': 0}]\n",
      "\n"
     ]
    },
    {
     "name": "stdout",
     "output_type": "stream",
     "text": [
      "degm7v\n",
      "f2wf08h\n",
      "[{'all_awardings': [], 'approved_at_utc': None, 'author': 'nynaeve-almeara', 'author_flair_background_color': None, 'author_flair_css_class': None, 'author_flair_richtext': [], 'author_flair_template_id': None, 'author_flair_text': None, 'author_flair_text_color': None, 'author_flair_type': 'text', 'author_fullname': 't2_2iud11k2', 'author_patreon_flair': False, 'awarders': [], 'banned_at_utc': None, 'body': 'The point is to do it now—2050 is an end goal for a massive project that will take a lot of work. Don’t set goals without a deadline.', 'can_mod_post': False, 'collapsed': False, 'collapsed_reason': None, 'created_utc': 1570464982, 'distinguished': None, 'edited': False, 'gildings': {}, 'id': 'f2wf08h', 'is_submitter': False, 'link_id': 't3_deigrz', 'locked': False, 'no_follow': True, 'parent_id': 't3_deigrz', 'permalink': '/r/climate/comments/deigrz/climate_inaction_is_terrifying/f2wf08h/', 'retrieved_on': 1570465015, 'score': 1, 'send_replies': True, 'steward_reports': [], 'stickied': False, 'subreddit': 'climate', 'subreddit_id': 't5_2qhx3', 'total_awards_received': 0}]\n",
      "\n",
      "degm7v\n",
      "f2wf8cw\n",
      "[{'all_awardings': [], 'approved_at_utc': None, 'author': 'MorboThinksYourePuny', 'author_flair_background_color': None, 'author_flair_css_class': None, 'author_flair_richtext': [], 'author_flair_template_id': None, 'author_flair_text': None, 'author_flair_text_color': None, 'author_flair_type': 'text', 'author_fullname': 't2_zkiai', 'author_patreon_flair': False, 'awarders': [], 'banned_at_utc': None, 'body': 'What’s your solution then?', 'can_mod_post': False, 'collapsed': False, 'collapsed_reason': None, 'created_utc': 1570465065, 'distinguished': None, 'edited': False, 'gildings': {}, 'id': 'f2wf8cw', 'is_submitter': False, 'link_id': 't3_deigrz', 'locked': False, 'no_follow': True, 'parent_id': 't1_f2w7s0v', 'permalink': '/r/climate/comments/deigrz/climate_inaction_is_terrifying/f2wf8cw/', 'retrieved_on': 1570465092, 'score': 1, 'send_replies': True, 'steward_reports': [], 'stickied': False, 'subreddit': 'climate', 'subreddit_id': 't5_2qhx3', 'total_awards_received': 0}]\n",
      "\n",
      "degm7v\n",
      "f2wid68\n",
      "[{'all_awardings': [], 'approved_at_utc': None, 'author': 'UberFreex', 'author_flair_background_color': None, 'author_flair_css_class': None, 'author_flair_richtext': [], 'author_flair_template_id': None, 'author_flair_text': None, 'author_flair_text_color': None, 'author_flair_type': 'text', 'author_fullname': 't2_35lsj2r1', 'author_patreon_flair': False, 'awarders': [], 'banned_at_utc': None, 'body': \"We're vastly overpopulated on a dying planet, with ecosystems in collapse and a finite amount of all resources that exist.  Full stop.  You cannot have constant growth with extremely finite resources.  Please, tell me how we could ever maintain today's standards of living for all human beings for all generations going forward AND not continue to destroy our very capacity to live on this planet.  It's simple, do we want to go extinct as a species, or don't we?\", 'can_mod_post': False, 'collapsed': False, 'collapsed_reason': None, 'created_utc': 1570466150, 'distinguished': None, 'edited': False, 'gildings': {}, 'id': 'f2wid68', 'is_submitter': False, 'link_id': 't3_deigrz', 'locked': False, 'no_follow': True, 'parent_id': 't1_f2w5ib5', 'permalink': '/r/climate/comments/deigrz/climate_inaction_is_terrifying/f2wid68/', 'retrieved_on': 1570466180, 'score': 1, 'send_replies': True, 'steward_reports': [], 'stickied': False, 'subreddit': 'climate', 'subreddit_id': 't5_2qhx3', 'total_awards_received': 0}]\n",
      "\n",
      "degm7v\n",
      "f2wk205\n",
      "[{'all_awardings': [], 'approved_at_utc': None, 'author': 'Togethernotapart', 'author_flair_background_color': None, 'author_flair_css_class': None, 'author_flair_richtext': [], 'author_flair_template_id': None, 'author_flair_text': None, 'author_flair_text_color': None, 'author_flair_type': 'text', 'author_fullname': 't2_xu93ixz', 'author_patreon_flair': False, 'awarders': [], 'banned_at_utc': None, 'body': 'Start with the recommendations from the last Special Report.', 'can_mod_post': False, 'collapsed': False, 'collapsed_reason': None, 'created_utc': 1570466720, 'distinguished': None, 'edited': False, 'gildings': {}, 'id': 'f2wk205', 'is_submitter': False, 'link_id': 't3_deigrz', 'locked': False, 'no_follow': True, 'parent_id': 't1_f2wf8cw', 'permalink': '/r/climate/comments/deigrz/climate_inaction_is_terrifying/f2wk205/', 'retrieved_on': 1570466768, 'score': 1, 'send_replies': True, 'steward_reports': [], 'stickied': False, 'subreddit': 'climate', 'subreddit_id': 't5_2qhx3', 'total_awards_received': 0}]\n",
      "\n",
      "degm7v\n",
      "f2wk46s\n",
      "[{'all_awardings': [], 'approved_at_utc': None, 'author': '[deleted]', 'author_flair_background_color': '', 'author_flair_css_class': None, 'author_flair_template_id': None, 'author_flair_text': None, 'author_flair_text_color': 'dark', 'awarders': [], 'banned_at_utc': None, 'body': '[removed]', 'can_mod_post': False, 'collapsed': False, 'collapsed_reason': None, 'created_utc': 1570466740, 'distinguished': None, 'edited': False, 'gildings': {}, 'id': 'f2wk46s', 'is_submitter': False, 'link_id': 't3_deigrz', 'locked': False, 'no_follow': True, 'parent_id': 't1_f2w5ib5', 'permalink': '/r/climate/comments/deigrz/climate_inaction_is_terrifying/f2wk46s/', 'retrieved_on': 1570466789, 'score': 1, 'send_replies': False, 'steward_reports': [], 'stickied': False, 'subreddit': 'climate', 'subreddit_id': 't5_2qhx3', 'total_awards_received': 0}]\n",
      "\n",
      "degm7v\n",
      "f2wkk3d\n",
      "[{'all_awardings': [], 'approved_at_utc': None, 'author': 'Togethernotapart', 'author_flair_background_color': None, 'author_flair_css_class': None, 'author_flair_richtext': [], 'author_flair_template_id': None, 'author_flair_text': None, 'author_flair_text_color': None, 'author_flair_type': 'text', 'author_fullname': 't2_xu93ixz', 'author_patreon_flair': False, 'awarders': [], 'banned_at_utc': None, 'body': '&gt;an alternative viable path which the same quality of life.\\n\\nWe can still have quality lives. Just not the way we have. We will have different measures of happiness. It will require great effort, but is not impossible.', 'can_mod_post': False, 'collapsed': False, 'collapsed_reason': None, 'created_utc': 1570466885, 'distinguished': None, 'edited': False, 'gildings': {}, 'id': 'f2wkk3d', 'is_submitter': False, 'link_id': 't3_deigrz', 'locked': False, 'no_follow': True, 'parent_id': 't1_f2w5ib5', 'permalink': '/r/climate/comments/deigrz/climate_inaction_is_terrifying/f2wkk3d/', 'retrieved_on': 1570466944, 'score': 1, 'send_replies': True, 'steward_reports': [], 'stickied': False, 'subreddit': 'climate', 'subreddit_id': 't5_2qhx3', 'total_awards_received': 0}]\n",
      "\n",
      "degm7v\n",
      "f2wku25\n",
      "[{'all_awardings': [], 'approved_at_utc': None, 'author': 'worotan', 'author_flair_background_color': None, 'author_flair_css_class': None, 'author_flair_richtext': [], 'author_flair_template_id': None, 'author_flair_text': None, 'author_flair_text_color': None, 'author_flair_type': 'text', 'author_fullname': 't2_7b4v1', 'author_patreon_flair': False, 'awarders': [], 'banned_at_utc': None, 'body': \"&gt; this in case could have a worse effect on the climate measures when people start to vote at climate change denying parties here.\\n\\nPeople are already voting for climate denying parties, in every democracy we have.\\n\\nHence the lack of serious action. Keep kicking the can down the road, and coming up with new reasons why we can't act more quickly, that skirt the real reason of needing to help the right people keep making obscene amounts of money.\", 'can_mod_post': False, 'collapsed': False, 'collapsed_reason': None, 'created_utc': 1570466977, 'distinguished': None, 'edited': False, 'gildings': {}, 'id': 'f2wku25', 'is_submitter': False, 'link_id': 't3_deigrz', 'locked': False, 'no_follow': True, 'parent_id': 't1_f2vgm9f', 'permalink': '/r/climate/comments/deigrz/climate_inaction_is_terrifying/f2wku25/', 'retrieved_on': 1570467043, 'score': 1, 'send_replies': False, 'steward_reports': [], 'stickied': False, 'subreddit': 'climate', 'subreddit_id': 't5_2qhx3', 'total_awards_received': 0}]\n",
      "\n",
      "degm7v\n",
      "f2wnk1e\n",
      "[{'all_awardings': [], 'approved_at_utc': None, 'author': 'MountNevermind', 'author_flair_background_color': None, 'author_flair_css_class': None, 'author_flair_richtext': [], 'author_flair_template_id': None, 'author_flair_text': None, 'author_flair_text_color': None, 'author_flair_type': 'text', 'author_fullname': 't2_6pjqc0', 'author_patreon_flair': False, 'awarders': [], 'banned_at_utc': None, 'body': \"So any more action than what we're currently doing would lead to massive civil unrest?\\n\\nPay no attention to other jurisdictions engaging in more action than we are.  Nothing to see there.\\n\\nWhen does this sort of argument rub up against reality?\", 'can_mod_post': False, 'collapsed': False, 'collapsed_reason': None, 'created_utc': 1570467904, 'distinguished': None, 'edited': False, 'gildings': {}, 'id': 'f2wnk1e', 'is_submitter': False, 'link_id': 't3_deigrz', 'locked': False, 'no_follow': True, 'parent_id': 't1_f2vgm9f', 'permalink': '/r/climate/comments/deigrz/climate_inaction_is_terrifying/f2wnk1e/', 'retrieved_on': 1570468031, 'score': 1, 'send_replies': True, 'steward_reports': [], 'stickied': False, 'subreddit': 'climate', 'subreddit_id': 't5_2qhx3', 'total_awards_received': 0}]\n",
      "\n"
     ]
    },
    {
     "name": "stdout",
     "output_type": "stream",
     "text": [
      "degm7v\n",
      "f2wqjx1\n",
      "[{'all_awardings': [], 'approved_at_utc': None, 'author': 'ILikeNeurons', 'author_flair_background_color': None, 'author_flair_css_class': None, 'author_flair_richtext': [], 'author_flair_template_id': None, 'author_flair_text': None, 'author_flair_text_color': None, 'author_flair_type': 'text', 'author_fullname': 't2_9cki6', 'author_patreon_flair': False, 'awarders': [], 'banned_at_utc': None, 'body': \"Yes. Let's pass carbon pricing bill *now*. The U.S. House [is raining carbon pricing bills](https://climate-xchange.org/2019/08/15/its-raining-carbon-pricing-bills-on-capitol-hill-a-comparative-look/) -- some of them even have dozens of co-sponsors already. \\n\\nYou can [train as a volunteer climate lobbyist](https://citizensclimatelobby.org/join-citizens-climate-lobby/?tfa_3590416195188=reddit-CarbonTax&amp;utm_source=reddit&amp;utm_medium=referral&amp;utm_campaign=CarbonTax) for free for a few hours a month and help to push [reasonable climate policy](https://www.theguardian.com/environment/climate-consensus-97-per-cent/2014/jun/13/how-revenue-neutral-carbon-tax-creates-jobs-grows-economy) over the finish line.\", 'can_mod_post': False, 'collapsed': False, 'collapsed_reason': None, 'created_utc': 1570468961, 'distinguished': None, 'edited': False, 'gildings': {}, 'id': 'f2wqjx1', 'is_submitter': False, 'link_id': 't3_deigrz', 'locked': False, 'no_follow': True, 'parent_id': 't3_deigrz', 'permalink': '/r/climate/comments/deigrz/climate_inaction_is_terrifying/f2wqjx1/', 'retrieved_on': 1570469127, 'score': 1, 'send_replies': True, 'steward_reports': [], 'stickied': False, 'subreddit': 'climate', 'subreddit_id': 't5_2qhx3', 'total_awards_received': 0}]\n",
      "\n",
      "degm7v\n",
      "f2wrb00\n",
      "[{'all_awardings': [], 'approved_at_utc': None, 'author': '[deleted]', 'author_flair_background_color': '', 'author_flair_css_class': None, 'author_flair_template_id': None, 'author_flair_text': None, 'author_flair_text_color': 'dark', 'awarders': [], 'banned_at_utc': None, 'body': '[removed]', 'can_mod_post': False, 'collapsed': False, 'collapsed_reason': None, 'created_utc': 1570469233, 'distinguished': None, 'edited': False, 'gildings': {}, 'id': 'f2wrb00', 'is_submitter': False, 'link_id': 't3_deigrz', 'locked': False, 'no_follow': True, 'parent_id': 't3_deigrz', 'permalink': '/r/climate/comments/deigrz/climate_inaction_is_terrifying/f2wrb00/', 'retrieved_on': 1570469409, 'score': 1, 'send_replies': True, 'steward_reports': [], 'stickied': False, 'subreddit': 'climate', 'subreddit_id': 't5_2qhx3', 'total_awards_received': 0}]\n",
      "\n",
      "degm7v\n",
      "f2wrmsp\n",
      "[{'all_awardings': [], 'approved_at_utc': None, 'author': 'jadenpls', 'author_flair_background_color': None, 'author_flair_css_class': None, 'author_flair_richtext': [], 'author_flair_template_id': None, 'author_flair_text': None, 'author_flair_text_color': None, 'author_flair_type': 'text', 'author_fullname': 't2_kj46c', 'author_patreon_flair': False, 'awarders': [], 'banned_at_utc': None, 'body': \"Theoretically we could maintain today's standard's of living using only renewable energy. I would estimate it might take 100 years for a complete global shift to renewable energy. However building solar panels and wind turbines also releases CO2 and needs an energy source. \\n\\nIn the end it boils down to whether humans can build renewable energy sources before the climate annihilates their economy.\", 'can_mod_post': False, 'collapsed': False, 'collapsed_reason': None, 'created_utc': 1570469346, 'distinguished': None, 'edited': False, 'gildings': {}, 'id': 'f2wrmsp', 'is_submitter': False, 'link_id': 't3_deigrz', 'locked': False, 'no_follow': True, 'parent_id': 't1_f2wid68', 'permalink': '/r/climate/comments/deigrz/climate_inaction_is_terrifying/f2wrmsp/', 'retrieved_on': 1570469525, 'score': 1, 'send_replies': True, 'steward_reports': [], 'stickied': False, 'subreddit': 'climate', 'subreddit_id': 't5_2qhx3', 'total_awards_received': 0}]\n",
      "\n",
      "degm7v\n",
      "f2wzb45\n",
      "[{'all_awardings': [], 'approved_at_utc': None, 'author': 'mistralol', 'author_flair_background_color': None, 'author_flair_css_class': None, 'author_flair_richtext': [], 'author_flair_template_id': None, 'author_flair_text': None, 'author_flair_text_color': None, 'author_flair_type': 'text', 'author_fullname': 't2_4ly91', 'author_patreon_flair': False, 'awarders': [], 'banned_at_utc': None, 'body': 'I am not saying its impossible btw. I am simply saying its impossible to change the behaviour of a couple of billion people overnight. From my point of view we need some draconian action. Right across the board people actually need to take responsibility for themselves.\\n\\nThe best way to do that is probably to put an \"environmental price tag\" on every single item bough / sold though out the entire supply change. Cause its not just CO2 emissions are the problem its a whole pile of other things which hurt. Once we can account for it we can bill and organise around that.', 'can_mod_post': False, 'collapsed': False, 'collapsed_reason': None, 'created_utc': 1570471937, 'distinguished': None, 'edited': False, 'gildings': {}, 'id': 'f2wzb45', 'is_submitter': False, 'link_id': 't3_deigrz', 'locked': False, 'no_follow': True, 'parent_id': 't1_f2wkk3d', 'permalink': '/r/climate/comments/deigrz/climate_inaction_is_terrifying/f2wzb45/', 'retrieved_on': 1570472229, 'score': 1, 'send_replies': True, 'steward_reports': [], 'stickied': False, 'subreddit': 'climate', 'subreddit_id': 't5_2qhx3', 'total_awards_received': 0}]\n",
      "\n",
      "degm7v\n",
      "f2x1joe\n",
      "[{'all_awardings': [], 'approved_at_utc': None, 'author': 'silence7', 'author_flair_background_color': None, 'author_flair_css_class': None, 'author_flair_richtext': [], 'author_flair_template_id': None, 'author_flair_text': None, 'author_flair_text_color': None, 'author_flair_type': 'text', 'author_fullname': 't2_22bd2', 'author_patreon_flair': False, 'awarders': [], 'banned_at_utc': None, 'body': 'This is what legislation like [HR763 tries to do](https://www.congress.gov/bill/116th-congress/house-bill/763)', 'can_mod_post': False, 'collapsed': False, 'collapsed_reason': None, 'created_utc': 1570472711, 'distinguished': None, 'edited': False, 'gildings': {}, 'id': 'f2x1joe', 'is_submitter': False, 'link_id': 't3_deigrz', 'locked': False, 'no_follow': True, 'parent_id': 't1_f2wzb45', 'permalink': '/r/climate/comments/deigrz/climate_inaction_is_terrifying/f2x1joe/', 'retrieved_on': 1570473021, 'score': 1, 'send_replies': True, 'steward_reports': [], 'stickied': False, 'subreddit': 'climate', 'subreddit_id': 't5_2qhx3', 'total_awards_received': 0}]\n",
      "\n",
      "degm7v\n",
      "f2x2vwa\n",
      "[{'all_awardings': [], 'approved_at_utc': None, 'author': 'mistralol', 'author_flair_background_color': None, 'author_flair_css_class': None, 'author_flair_richtext': [], 'author_flair_template_id': None, 'author_flair_text': None, 'author_flair_text_color': None, 'author_flair_type': 'text', 'author_fullname': 't2_4ly91', 'author_patreon_flair': False, 'awarders': [], 'banned_at_utc': None, 'body': 'As for the energy methods. currently nuclear is looking like the best option.\\n\\nI have some suggestions and no \"total solutions\" the biggest problem I see is we cannot even account for the damage we cause. So we should start with that. This would involve putting a \"environmental price tag\" on every item being sold all the way though the supply chain. Then you give people a fair share of how much damage they are permitted to cause by consumerism and energy usage.\\n\\nBut what its really attempting to do is to redefine what success means. Most of that is based around social status and that is massively connected to money currently. If we were to change this definition to how much you care about the environment. So the people who run a company that sells the most items get to the \"top\" when in fact this is a race to the bottom from an environmental point of view. We build washing machines, tv, microwaves etc.. that last exactly 3.5-5 years. This is so that a company in 5 years time gets to sell you more crappy stuff that they didn\\'t build right in the first place. We need to stop rewarding this kind of behaviour and even start punishing it the best way to do that is though social methods.\\n\\nAs for taxing it. Once you have a price tag you can tax for it on a exponential scale once somebody breaches their basic credit limit. ie somebody buys a car it costs them X credits. If they buy a 2nd car its going to cost them X squared in costs.\\n\\nThe big issue with money is that its not connected to resources / environment at all. We need some kinda token introduced to our trading connected directly to resources / environment.\\n\\nWhat this attempts to form is a system where you can have limited spend. So obviously you want the cheapest priced items and companies will respond to that only the price need connected to the climate just like we do with today\\'s common trade.\\n\\nThe important thing here is that it also need to cross borders between countries.', 'can_mod_post': False, 'collapsed': False, 'collapsed_reason': None, 'created_utc': 1570473156, 'distinguished': None, 'edited': False, 'gildings': {}, 'id': 'f2x2vwa', 'is_submitter': False, 'link_id': 't3_deigrz', 'locked': False, 'no_follow': True, 'parent_id': 't1_f2wf8cw', 'permalink': '/r/climate/comments/deigrz/climate_inaction_is_terrifying/f2x2vwa/', 'retrieved_on': 1570473499, 'score': 1, 'send_replies': True, 'steward_reports': [], 'stickied': False, 'subreddit': 'climate', 'subreddit_id': 't5_2qhx3', 'total_awards_received': 0}]\n",
      "\n"
     ]
    },
    {
     "name": "stdout",
     "output_type": "stream",
     "text": [
      "degm7v\n",
      "f2x3gzj\n",
      "[{'all_awardings': [], 'approved_at_utc': None, 'author': 'mistralol', 'author_flair_background_color': None, 'author_flair_css_class': None, 'author_flair_richtext': [], 'author_flair_template_id': None, 'author_flair_text': None, 'author_flair_text_color': None, 'author_flair_type': 'text', 'author_fullname': 't2_4ly91', 'author_patreon_flair': False, 'awarders': [], 'banned_at_utc': None, 'body': \"&gt;You cannot have constant growth with extremely finite resources\\n\\nYup first thing that need re-written is the financial system. Which currently drive consumerism. Which is one of the major contributing factors. Its not like people set out to randomly destroy the environment. they mostly do it because they get rewarded for it.\\n\\n| Please, tell me how we could ever maintain today's standards of living\\n\\nI don't know. Thats why I was asking you :) What I do know though is large amounts of the population are going to be really pissed off and won't roll over when you you turn their electric off.\", 'can_mod_post': False, 'collapsed': False, 'collapsed_reason': None, 'created_utc': 1570473344, 'distinguished': None, 'edited': False, 'gildings': {}, 'id': 'f2x3gzj', 'is_submitter': False, 'link_id': 't3_deigrz', 'locked': False, 'no_follow': True, 'parent_id': 't1_f2wid68', 'permalink': '/r/climate/comments/deigrz/climate_inaction_is_terrifying/f2x3gzj/', 'retrieved_on': 1570473702, 'score': 1, 'send_replies': True, 'steward_reports': [], 'stickied': False, 'subreddit': 'climate', 'subreddit_id': 't5_2qhx3', 'total_awards_received': 0}]\n",
      "\n",
      "degm7v\n",
      "f2x43ac\n",
      "[{'all_awardings': [], 'approved_at_utc': None, 'author': 'mistralol', 'author_flair_background_color': None, 'author_flair_css_class': None, 'author_flair_richtext': [], 'author_flair_template_id': None, 'author_flair_text': None, 'author_flair_text_color': None, 'author_flair_type': 'text', 'author_fullname': 't2_4ly91', 'author_patreon_flair': False, 'awarders': [], 'banned_at_utc': None, 'body': \"Which is basically useless. Cause that is only like 20% of the problem. The real problems are the dirty heavy industry which has been outsourced to where the laws do not apply. Like china. You know like steel production. They will try to catch these on the imports which will raise the price of the item or the other country that really doesn't give a crap will just completely ignore the emission in order to make ends meet.\\n\\nI would bet that law would have a negative effect for that reason.\", 'can_mod_post': False, 'collapsed': False, 'collapsed_reason': None, 'created_utc': 1570473544, 'distinguished': None, 'edited': False, 'gildings': {}, 'id': 'f2x43ac', 'is_submitter': False, 'link_id': 't3_deigrz', 'locked': False, 'no_follow': True, 'parent_id': 't1_f2x1joe', 'permalink': '/r/climate/comments/deigrz/climate_inaction_is_terrifying/f2x43ac/', 'retrieved_on': 1570473926, 'score': 1, 'send_replies': True, 'steward_reports': [], 'stickied': False, 'subreddit': 'climate', 'subreddit_id': 't5_2qhx3', 'total_awards_received': 0}]\n",
      "\n",
      "degm7v\n",
      "f2x4lya\n",
      "[{'all_awardings': [], 'approved_at_utc': None, 'author': 'bikingbill', 'author_flair_background_color': None, 'author_flair_css_class': None, 'author_flair_richtext': [], 'author_flair_template_id': None, 'author_flair_text': None, 'author_flair_text_color': None, 'author_flair_type': 'text', 'author_fullname': 't2_1xtyd', 'author_patreon_flair': False, 'awarders': [], 'banned_at_utc': None, 'body': 'This is why I funded and am giving away http://TheClimateTrail.com.', 'can_mod_post': False, 'collapsed': False, 'collapsed_reason': None, 'created_utc': 1570473710, 'distinguished': None, 'edited': False, 'gildings': {}, 'id': 'f2x4lya', 'is_submitter': False, 'link_id': 't3_deigrz', 'locked': False, 'no_follow': True, 'parent_id': 't3_deigrz', 'permalink': '/r/climate/comments/deigrz/climate_inaction_is_terrifying/f2x4lya/', 'retrieved_on': 1570474109, 'score': 1, 'send_replies': True, 'steward_reports': [], 'stickied': False, 'subreddit': 'climate', 'subreddit_id': 't5_2qhx3', 'total_awards_received': 0}]\n",
      "\n",
      "degm7v\n",
      "f2x833d\n",
      "[{'all_awardings': [], 'approved_at_utc': None, 'author': 'silence7', 'author_flair_background_color': None, 'author_flair_css_class': None, 'author_flair_richtext': [], 'author_flair_template_id': None, 'author_flair_text': None, 'author_flair_text_color': None, 'author_flair_type': 'text', 'author_fullname': 't2_22bd2', 'author_patreon_flair': False, 'awarders': [], 'banned_at_utc': None, 'body': \"That's why the bill includes a charge on imports to effectively impose an emissions tax on them.\", 'can_mod_post': False, 'collapsed': False, 'collapsed_reason': None, 'created_utc': 1570474758, 'distinguished': None, 'edited': False, 'gildings': {}, 'id': 'f2x833d', 'is_submitter': False, 'link_id': 't3_deigrz', 'locked': False, 'no_follow': True, 'parent_id': 't1_f2x43ac', 'permalink': '/r/climate/comments/deigrz/climate_inaction_is_terrifying/f2x833d/', 'retrieved_on': 1570475513, 'score': 1, 'send_replies': True, 'steward_reports': [], 'stickied': False, 'subreddit': 'climate', 'subreddit_id': 't5_2qhx3', 'total_awards_received': 0}]\n",
      "\n",
      "degm7v\n",
      "f2x9yfr\n",
      "[{'all_awardings': [], 'approved_at_utc': None, 'author': 'mistralol', 'author_flair_background_color': None, 'author_flair_css_class': None, 'author_flair_richtext': [], 'author_flair_template_id': None, 'author_flair_text': None, 'author_flair_text_color': None, 'author_flair_type': 'text', 'author_fullname': 't2_4ly91', 'author_patreon_flair': False, 'awarders': [], 'banned_at_utc': None, 'body': 'I think you mis-understand my point. The places where some of these things are made will race to the bottom in order to make the prices even cheaper causing even more pollution.', 'can_mod_post': False, 'collapsed': False, 'collapsed_reason': None, 'created_utc': 1570475370, 'distinguished': None, 'edited': False, 'gildings': {}, 'id': 'f2x9yfr', 'is_submitter': False, 'link_id': 't3_deigrz', 'locked': False, 'no_follow': True, 'parent_id': 't1_f2x833d', 'permalink': '/r/climate/comments/deigrz/climate_inaction_is_terrifying/f2x9yfr/', 'retrieved_on': 1570476172, 'score': 1, 'send_replies': True, 'steward_reports': [], 'stickied': False, 'subreddit': 'climate', 'subreddit_id': 't5_2qhx3', 'total_awards_received': 0}]\n",
      "\n",
      "degm7v\n",
      "f2xb4bu\n",
      "[{'all_awardings': [], 'approved_at_utc': None, 'author': 'ILikeNeurons', 'author_flair_background_color': None, 'author_flair_css_class': None, 'author_flair_richtext': [], 'author_flair_template_id': None, 'author_flair_text': None, 'author_flair_text_color': None, 'author_flair_type': 'text', 'author_fullname': 't2_9cki6', 'author_patreon_flair': False, 'awarders': [], 'banned_at_utc': None, 'body': 'Is this like a modern Oregon Trail?', 'can_mod_post': False, 'collapsed': False, 'collapsed_reason': None, 'created_utc': 1570475759, 'distinguished': None, 'edited': False, 'gildings': {}, 'id': 'f2xb4bu', 'is_submitter': False, 'link_id': 't3_deigrz', 'locked': False, 'no_follow': True, 'parent_id': 't1_f2x4lya', 'permalink': '/r/climate/comments/deigrz/climate_inaction_is_terrifying/f2xb4bu/', 'retrieved_on': 1570476585, 'score': 1, 'send_replies': True, 'steward_reports': [], 'stickied': False, 'subreddit': 'climate', 'subreddit_id': 't5_2qhx3', 'total_awards_received': 0}]\n",
      "\n",
      "degm7v\n",
      "f2xbcuw\n",
      "[{'all_awardings': [], 'approved_at_utc': None, 'author': 'ILikeNeurons', 'author_flair_background_color': None, 'author_flair_css_class': None, 'author_flair_richtext': [], 'author_flair_template_id': None, 'author_flair_text': None, 'author_flair_text_color': None, 'author_flair_type': 'text', 'author_fullname': 't2_9cki6', 'author_patreon_flair': False, 'awarders': [], 'banned_at_utc': None, 'body': \"H.R. 763 is basically [CCL's policy](https://www.theguardian.com/environment/climate-consensus-97-per-cent/2014/jun/13/how-revenue-neutral-carbon-tax-creates-jobs-grows-economy). Like pretty much every carbon pricing bill, it covers industry.\", 'can_mod_post': False, 'collapsed': False, 'collapsed_reason': None, 'created_utc': 1570475846, 'distinguished': None, 'edited': False, 'gildings': {}, 'id': 'f2xbcuw', 'is_submitter': False, 'link_id': 't3_deigrz', 'locked': False, 'no_follow': True, 'parent_id': 't1_f2x43ac', 'permalink': '/r/climate/comments/deigrz/climate_inaction_is_terrifying/f2xbcuw/', 'retrieved_on': 1570476670, 'score': 1, 'send_replies': True, 'steward_reports': [], 'stickied': False, 'subreddit': 'climate', 'subreddit_id': 't5_2qhx3', 'total_awards_received': 0}]\n",
      "\n"
     ]
    },
    {
     "name": "stdout",
     "output_type": "stream",
     "text": [
      "degm7v\n",
      "f2xbmli\n",
      "[{'all_awardings': [], 'approved_at_utc': None, 'author': 'ILikeNeurons', 'author_flair_background_color': None, 'author_flair_css_class': None, 'author_flair_richtext': [], 'author_flair_template_id': None, 'author_flair_text': None, 'author_flair_text_color': None, 'author_flair_type': 'text', 'author_fullname': 't2_9cki6', 'author_patreon_flair': False, 'awarders': [], 'banned_at_utc': None, 'body': \"[It doesn't really work like that](https://link.springer.com/content/pdf/10.1007/s10640-007-9091-x.pdf). \\n\\nWe can implement a [border adjustment](http://papers.ssrn.com/sol3/papers.cfm?abstract_id=2026879) once we're pricing our own carbon pollution.\", 'can_mod_post': False, 'collapsed': False, 'collapsed_reason': None, 'created_utc': 1570475957, 'distinguished': None, 'edited': False, 'gildings': {}, 'id': 'f2xbmli', 'is_submitter': False, 'link_id': 't3_deigrz', 'locked': False, 'no_follow': True, 'parent_id': 't1_f2x9yfr', 'permalink': '/r/climate/comments/deigrz/climate_inaction_is_terrifying/f2xbmli/', 'retrieved_on': 1570476776, 'score': 1, 'send_replies': True, 'steward_reports': [], 'stickied': False, 'subreddit': 'climate', 'subreddit_id': 't5_2qhx3', 'total_awards_received': 0}]\n",
      "\n",
      "degm7v\n",
      "f2xbsyu\n",
      "[{'all_awardings': [], 'approved_at_utc': None, 'author': 'silence7', 'author_flair_background_color': None, 'author_flair_css_class': None, 'author_flair_richtext': [], 'author_flair_template_id': None, 'author_flair_text': None, 'author_flair_text_color': None, 'author_flair_type': 'text', 'author_fullname': 't2_22bd2', 'author_patreon_flair': False, 'awarders': [], 'banned_at_utc': None, 'body': \"So that makes the price go up even more -- the price assigned on an import is based on the embedded greenhouse gas emissions associated with it.  You can't win by playing that game anymore if HR 763 were to become law.\", 'can_mod_post': False, 'collapsed': False, 'collapsed_reason': None, 'created_utc': 1570476039, 'distinguished': None, 'edited': False, 'gildings': {}, 'id': 'f2xbsyu', 'is_submitter': False, 'link_id': 't3_deigrz', 'locked': False, 'no_follow': True, 'parent_id': 't1_f2x9yfr', 'permalink': '/r/climate/comments/deigrz/climate_inaction_is_terrifying/f2xbsyu/', 'retrieved_on': 1570476852, 'score': 1, 'send_replies': True, 'steward_reports': [], 'stickied': False, 'subreddit': 'climate', 'subreddit_id': 't5_2qhx3', 'total_awards_received': 0}]\n",
      "\n",
      "degm7v\n",
      "f2xc81s\n",
      "[{'all_awardings': [], 'approved_at_utc': None, 'author': 'shminder', 'author_flair_background_color': None, 'author_flair_css_class': None, 'author_flair_richtext': [], 'author_flair_template_id': None, 'author_flair_text': None, 'author_flair_text_color': None, 'author_flair_type': 'text', 'author_fullname': 't2_sytbm', 'author_patreon_flair': False, 'awarders': [], 'banned_at_utc': None, 'body': 'Thank you! I just signed up', 'can_mod_post': False, 'collapsed': False, 'collapsed_reason': None, 'created_utc': 1570476261, 'distinguished': None, 'edited': False, 'gildings': {}, 'id': 'f2xc81s', 'is_submitter': False, 'link_id': 't3_deigrz', 'locked': False, 'no_follow': True, 'parent_id': 't1_f2wqjx1', 'permalink': '/r/climate/comments/deigrz/climate_inaction_is_terrifying/f2xc81s/', 'retrieved_on': 1570477045, 'score': 1, 'send_replies': True, 'steward_reports': [], 'stickied': False, 'subreddit': 'climate', 'subreddit_id': 't5_2qhx3', 'total_awards_received': 0}]\n",
      "\n",
      "degm7v\n",
      "f2xdefu\n",
      "[{'all_awardings': [], 'approved_at_utc': None, 'author': 'mistralol', 'author_flair_background_color': None, 'author_flair_css_class': None, 'author_flair_richtext': [], 'author_flair_template_id': None, 'author_flair_text': None, 'author_flair_text_color': None, 'author_flair_type': 'text', 'author_fullname': 't2_4ly91', 'author_patreon_flair': False, 'awarders': [], 'banned_at_utc': None, 'body': 'Ok. Keep telling yourself that. We will see in 5-10 years. then we will know who is right!', 'can_mod_post': False, 'collapsed': False, 'collapsed_reason': None, 'created_utc': 1570476861, 'distinguished': None, 'edited': False, 'gildings': {}, 'id': 'f2xdefu', 'is_submitter': False, 'link_id': 't3_deigrz', 'locked': False, 'no_follow': True, 'parent_id': 't1_f2xbsyu', 'permalink': '/r/climate/comments/deigrz/climate_inaction_is_terrifying/f2xdefu/', 'retrieved_on': 1570477595, 'score': 1, 'send_replies': True, 'steward_reports': [], 'stickied': False, 'subreddit': 'climate', 'subreddit_id': 't5_2qhx3', 'total_awards_received': 0}]\n",
      "\n",
      "degm7v\n",
      "f2xf8fb\n",
      "[{'all_awardings': [], 'approved_at_utc': None, 'author': 'bikingbill', 'author_flair_background_color': None, 'author_flair_css_class': None, 'author_flair_richtext': [], 'author_flair_template_id': None, 'author_flair_text': None, 'author_flair_text_color': None, 'author_flair_type': 'text', 'author_fullname': 't2_1xtyd', 'author_patreon_flair': False, 'awarders': [], 'banned_at_utc': None, 'body': 'Yep. Oregon Trail + Visual Novel + Educational.  I’m giving it away. Free + No Ads + No IAP.', 'can_mod_post': False, 'collapsed': False, 'collapsed_reason': None, 'created_utc': 1570477737, 'distinguished': None, 'edited': False, 'gildings': {}, 'id': 'f2xf8fb', 'is_submitter': False, 'link_id': 't3_deigrz', 'locked': False, 'no_follow': True, 'parent_id': 't1_f2xb4bu', 'permalink': '/r/climate/comments/deigrz/climate_inaction_is_terrifying/f2xf8fb/', 'retrieved_on': 1570478427, 'score': 1, 'send_replies': True, 'steward_reports': [], 'stickied': False, 'subreddit': 'climate', 'subreddit_id': 't5_2qhx3', 'total_awards_received': 0}]\n",
      "\n",
      "degm7v\n",
      "f2xfqp9\n",
      "[{'all_awardings': [], 'approved_at_utc': None, 'author': 'robot65536', 'author_flair_background_color': None, 'author_flair_css_class': None, 'author_flair_richtext': [], 'author_flair_template_id': None, 'author_flair_text': None, 'author_flair_text_color': None, 'author_flair_type': 'text', 'author_fullname': 't2_s1nh175', 'author_patreon_flair': False, 'awarders': [], 'banned_at_utc': None, 'body': 'The new [EZ-Climate Carbon Pricing Model](https://www.pnas.org/content/early/2019/09/30/1817444116) I believe is a great advancement in the discussion.  It uses economic risk pricing and behavioral realities to show that the best (not \"optimal\") carbon price is to start high and only lower it once we have prevented the tipping points from occurring.  Existing models like Canada\\'s are based on small, escalating damages and don\\'t correctly price the risk of future damages.\\n\\nI always argue that starting low and ratcheting it up (on timelines more than a couple of years) won\\'t drive the immediate change we need.  Adept business managers will see the writing on the wall, but most will be like frogs in a boiling pot and simply pass on the costs of business as usual until they cause an economic slow-down.  A sudden increase in the carbon price, by $50 or $100/ton in a year or two, would force everyone to acknowledge that action is required.  Economic growth will slow down eventually either way, so we should make sure it has the maximum positive impact.', 'can_mod_post': False, 'collapsed': False, 'collapsed_reason': None, 'created_utc': 1570477900, 'distinguished': None, 'edited': False, 'gildings': {}, 'id': 'f2xfqp9', 'is_submitter': False, 'link_id': 't3_deigrz', 'locked': False, 'no_follow': True, 'parent_id': 't1_f2wqjx1', 'permalink': '/r/climate/comments/deigrz/climate_inaction_is_terrifying/f2xfqp9/', 'retrieved_on': 1570478603, 'score': 1, 'send_replies': True, 'steward_reports': [], 'stickied': False, 'subreddit': 'climate', 'subreddit_id': 't5_2qhx3', 'total_awards_received': 0}]\n",
      "\n",
      "degm7v\n",
      "f2xhfwz\n",
      "[{'all_awardings': [], 'approved_at_utc': None, 'author': 'ILikeNeurons', 'author_flair_background_color': None, 'author_flair_css_class': None, 'author_flair_richtext': [], 'author_flair_template_id': None, 'author_flair_text': None, 'author_flair_text_color': None, 'author_flair_type': 'text', 'author_fullname': 't2_9cki6', 'author_patreon_flair': False, 'awarders': [], 'banned_at_utc': None, 'body': \"A policy like [Canada's](https://www.theguardian.com/environment/climate-consensus-97-per-cent/2018/oct/26/canada-passed-a-carbon-tax-that-will-give-most-canadians-more-money) will [greatly reduce emissions](https://www.theguardian.com/environment/climate-consensus-97-per-cent/2014/jun/13/how-revenue-neutral-carbon-tax-creates-jobs-grows-economy), in line with [what scientists say is needed to stay below 1.5 ºC](https://en.wikipedia.org/wiki/Special_Report_on_Global_Warming_of_1.5_%C2%B0C).  \\n\\nI'm not personally opposed to the EZ-Climate Carbon Pricing Model, but I also think it runs a much higher risk of being repealed in the next election cycle, as happened in Australia, and I think the absolute worst outcome is no carbon pricing.\", 'can_mod_post': False, 'collapsed': False, 'collapsed_reason': None, 'created_utc': 1570478441, 'distinguished': None, 'edited': False, 'gildings': {}, 'id': 'f2xhfwz', 'is_submitter': False, 'link_id': 't3_deigrz', 'locked': False, 'no_follow': True, 'parent_id': 't1_f2xfqp9', 'permalink': '/r/climate/comments/deigrz/climate_inaction_is_terrifying/f2xhfwz/', 'retrieved_on': 1570479200, 'score': 1, 'send_replies': True, 'steward_reports': [], 'stickied': False, 'subreddit': 'climate', 'subreddit_id': 't5_2qhx3', 'total_awards_received': 0}]\n",
      "\n"
     ]
    },
    {
     "name": "stdout",
     "output_type": "stream",
     "text": [
      "degm7v\n",
      "f2xhxjo\n",
      "[{'all_awardings': [], 'approved_at_utc': None, 'author': 'ILikeNeurons', 'author_flair_background_color': None, 'author_flair_css_class': None, 'author_flair_richtext': [], 'author_flair_template_id': None, 'author_flair_text': None, 'author_flair_text_color': None, 'author_flair_type': 'text', 'author_fullname': 't2_9cki6', 'author_patreon_flair': False, 'awarders': [], 'banned_at_utc': None, 'body': \"Thanks for taking that first step! If you're looking for next steps, here's what I'd recommend:\\n\\n1. [Sign up for the Intro Call for new volunteers](https://citizensclimatelobby.org/join-weekly-intro-call/) \\n\\n2. [Take the Climate Advocate Training](https://citizensclimatelobby.org/new-member/#climateadvocatetraining)\\n\\n3. [Get in touch with your local chapter leader](https://citizensclimatelobby.org/about-ccl/chapters/) (there are [chapters all over the world](https://citizensclimatelobby.org/about-ccl/chapters/)) and find out how you can best leverage your time, skills, and connections to [create the political world for a livable climate](https://citizensclimatelobby.org/about-ccl/levers-of-political-will/).\\n\\n4. Sign up for CCLCommunity. Be sure you edit your CCL Community Profile to reflect your interests in CCL so your local chapter leaders can connect you with relevant opportunities. \\n\\n5. Start [training](https://community.citizensclimate.org/topics) in whichever topics most interest you and that are most needed in your area. The training is available on [CCL Community](https://community.citizensclimate.org/topics), on [YouTube](https://www.youtube.com/channel/UCWuCkmi8ySLMTZEpJC7jMsA), or in podcast form, so choose whichever best fits with your lifestyle.\\n\\n6. Invite your friends, family, and neighbors to join you.\", 'can_mod_post': False, 'collapsed': False, 'collapsed_reason': None, 'created_utc': 1570478598, 'distinguished': None, 'edited': False, 'gildings': {}, 'id': 'f2xhxjo', 'is_submitter': False, 'link_id': 't3_deigrz', 'locked': False, 'no_follow': True, 'parent_id': 't1_f2xc81s', 'permalink': '/r/climate/comments/deigrz/climate_inaction_is_terrifying/f2xhxjo/', 'retrieved_on': 1570479370, 'score': 1, 'send_replies': True, 'steward_reports': [], 'stickied': False, 'subreddit': 'climate', 'subreddit_id': 't5_2qhx3', 'total_awards_received': 0}]\n",
      "\n",
      "degm7v\n",
      "f2xige6\n",
      "[{'all_awardings': [], 'approved_at_utc': None, 'author': 'ILikeNeurons', 'author_flair_background_color': None, 'author_flair_css_class': None, 'author_flair_richtext': [], 'author_flair_template_id': None, 'author_flair_text': None, 'author_flair_text_color': None, 'author_flair_type': 'text', 'author_fullname': 't2_9cki6', 'author_patreon_flair': False, 'awarders': [], 'banned_at_utc': None, 'body': \"The special report recommended a carbon price. Let's start with that. \\n\\n[A carbon tax would accelerate the adoption of every other solution](https://www.drawdown.org/frequently-asked-questions).\", 'can_mod_post': False, 'collapsed': False, 'collapsed_reason': None, 'created_utc': 1570478768, 'distinguished': None, 'edited': False, 'gildings': {}, 'id': 'f2xige6', 'is_submitter': False, 'link_id': 't3_deigrz', 'locked': False, 'no_follow': True, 'parent_id': 't1_f2wk205', 'permalink': '/r/climate/comments/deigrz/climate_inaction_is_terrifying/f2xige6/', 'retrieved_on': 1570479560, 'score': 1, 'send_replies': True, 'steward_reports': [], 'stickied': False, 'subreddit': 'climate', 'subreddit_id': 't5_2qhx3', 'total_awards_received': 0}]\n",
      "\n",
      "degm7v\n",
      "f2xijun\n",
      "[{'all_awardings': [], 'approved_at_utc': None, 'author': 'StonerMeditation', 'author_flair_background_color': None, 'author_flair_css_class': None, 'author_flair_richtext': [], 'author_flair_template_id': None, 'author_flair_text': None, 'author_flair_text_color': None, 'author_flair_type': 'text', 'author_fullname': 't2_g4ngl', 'author_patreon_flair': False, 'awarders': [], 'banned_at_utc': None, 'body': 'Action?  Please see /r/extinctionRebellion', 'can_mod_post': False, 'collapsed': False, 'collapsed_reason': None, 'created_utc': 1570478800, 'distinguished': None, 'edited': False, 'gildings': {}, 'id': 'f2xijun', 'is_submitter': False, 'link_id': 't3_deigrz', 'locked': False, 'no_follow': True, 'parent_id': 't3_deigrz', 'permalink': '/r/climate/comments/deigrz/climate_inaction_is_terrifying/f2xijun/', 'retrieved_on': 1570479595, 'score': 1, 'send_replies': True, 'steward_reports': [], 'stickied': False, 'subreddit': 'climate', 'subreddit_id': 't5_2qhx3', 'total_awards_received': 0}]\n",
      "\n",
      "degm7v\n",
      "f2xjh29\n",
      "[{'all_awardings': [], 'approved_at_utc': None, 'author': 'ILikeNeurons', 'author_flair_background_color': None, 'author_flair_css_class': None, 'author_flair_richtext': [], 'author_flair_template_id': None, 'author_flair_text': None, 'author_flair_text_color': None, 'author_flair_type': 'text', 'author_fullname': 't2_9cki6', 'author_patreon_flair': False, 'awarders': [], 'banned_at_utc': None, 'body': \"[We already know carbon pricing works](https://www.ipcc.ch/site/assets/uploads/2018/02/ipcc_wg3_ar5_summary-for-policymakers.pdf). That part isn't controversial.\", 'can_mod_post': False, 'collapsed': False, 'collapsed_reason': None, 'created_utc': 1570479085, 'distinguished': None, 'edited': False, 'gildings': {}, 'id': 'f2xjh29', 'is_submitter': False, 'link_id': 't3_deigrz', 'locked': False, 'no_follow': True, 'parent_id': 't1_f2xdefu', 'permalink': '/r/climate/comments/deigrz/climate_inaction_is_terrifying/f2xjh29/', 'retrieved_on': 1570479949, 'score': 1, 'send_replies': True, 'steward_reports': [], 'stickied': False, 'subreddit': 'climate', 'subreddit_id': 't5_2qhx3', 'total_awards_received': 0}]\n",
      "\n",
      "degm7v\n",
      "f2xlafc\n",
      "[{'all_awardings': [], 'approved_at_utc': None, 'author': 'mistralol', 'author_flair_background_color': None, 'author_flair_css_class': None, 'author_flair_richtext': [], 'author_flair_template_id': None, 'author_flair_text': None, 'author_flair_text_color': None, 'author_flair_type': 'text', 'author_fullname': 't2_4ly91', 'author_patreon_flair': False, 'awarders': [], 'banned_at_utc': None, 'body': 'You have this so wrong. Realise the accounting for those figures is being bypassed.\\n\\nTake a look at [https://ourworldindata.org/co2-and-other-greenhouse-gas-emissions](https://ourworldindata.org/co2-and-other-greenhouse-gas-emissions)\\n\\nLook at the EU-28, EU, USA and the western world. There is a decline. Look at the rest of the world. They directly replaced that decline and added even more.\\n\\nYou have to realise your \"policy\" does not apply to everyone. It is being side stepped and ignored. It moved the problem rather than resolved it.', 'can_mod_post': False, 'collapsed': False, 'collapsed_reason': None, 'created_utc': 1570479677, 'distinguished': None, 'edited': False, 'gildings': {}, 'id': 'f2xlafc', 'is_submitter': False, 'link_id': 't3_deigrz', 'locked': False, 'no_follow': True, 'parent_id': 't1_f2xjh29', 'permalink': '/r/climate/comments/deigrz/climate_inaction_is_terrifying/f2xlafc/', 'retrieved_on': 1570480594, 'score': 1, 'send_replies': True, 'steward_reports': [], 'stickied': False, 'subreddit': 'climate', 'subreddit_id': 't5_2qhx3', 'total_awards_received': 0}]\n",
      "\n",
      "degm7v\n",
      "f2xm5hy\n",
      "[{'all_awardings': [], 'approved_at_utc': None, 'author': 'robot65536', 'author_flair_background_color': None, 'author_flair_css_class': None, 'author_flair_richtext': [], 'author_flair_template_id': None, 'author_flair_text': None, 'author_flair_text_color': None, 'author_flair_type': 'text', 'author_fullname': 't2_s1nh175', 'author_patreon_flair': False, 'awarders': [], 'banned_at_utc': None, 'body': \"Canada at least made the ramp-up relatively fast.  If it can get to $50/t within a year or two without being repealed, they will be a good position to keep going.  \\n\\nNow that I look at them, I see H.R.763 has an escalation of $10/year, and S.2284 has $15/year and $30/year if emissions don't drop enough.  Much more aggressive than I was expecting.\\n\\nI wonder if EZ-Climate accounts for how businesses respond to the scheduled escalation--in a lot of ways that's exactly the encouragement they need to invest and meet targets before the price changes too much.\", 'can_mod_post': False, 'collapsed': False, 'collapsed_reason': None, 'created_utc': 1570479943, 'distinguished': None, 'edited': False, 'gildings': {}, 'id': 'f2xm5hy', 'is_submitter': False, 'link_id': 't3_deigrz', 'locked': False, 'no_follow': True, 'parent_id': 't1_f2xhfwz', 'permalink': '/r/climate/comments/deigrz/climate_inaction_is_terrifying/f2xm5hy/', 'retrieved_on': 1570480895, 'score': 1, 'send_replies': True, 'steward_reports': [], 'stickied': False, 'subreddit': 'climate', 'subreddit_id': 't5_2qhx3', 'total_awards_received': 0}]\n",
      "\n"
     ]
    },
    {
     "name": "stdout",
     "output_type": "stream",
     "text": [
      "degm7v\n",
      "f2xpqti\n",
      "[{'all_awardings': [], 'approved_at_utc': None, 'author': 'silence7', 'author_flair_background_color': None, 'author_flair_css_class': None, 'author_flair_richtext': [], 'author_flair_template_id': None, 'author_flair_text': None, 'author_flair_text_color': None, 'author_flair_type': 'text', 'author_fullname': 't2_22bd2', 'author_patreon_flair': False, 'awarders': [], 'banned_at_utc': None, 'body': \"How exactly did a carbon tax impact US policy or imports when there isn't one in effect yet?\", 'can_mod_post': False, 'collapsed': False, 'collapsed_reason': None, 'created_utc': 1570481100, 'distinguished': None, 'edited': False, 'gildings': {}, 'id': 'f2xpqti', 'is_submitter': False, 'link_id': 't3_deigrz', 'locked': False, 'no_follow': True, 'parent_id': 't1_f2xlafc', 'permalink': '/r/climate/comments/deigrz/climate_inaction_is_terrifying/f2xpqti/', 'retrieved_on': 1570482214, 'score': 1, 'send_replies': True, 'steward_reports': [], 'stickied': False, 'subreddit': 'climate', 'subreddit_id': 't5_2qhx3', 'total_awards_received': 0}]\n",
      "\n",
      "degm7v\n",
      "f2xr13z\n",
      "[{'all_awardings': [], 'approved_at_utc': None, 'author': 'mistralol', 'author_flair_background_color': None, 'author_flair_css_class': None, 'author_flair_richtext': [], 'author_flair_template_id': None, 'author_flair_text': None, 'author_flair_text_color': None, 'author_flair_type': 'text', 'author_fullname': 't2_4ly91', 'author_patreon_flair': False, 'awarders': [], 'banned_at_utc': None, 'body': 'I am not using the US as a base. But the EU. The US is coping the EU... badly.', 'can_mod_post': False, 'collapsed': False, 'collapsed_reason': None, 'created_utc': 1570481529, 'distinguished': None, 'edited': False, 'gildings': {}, 'id': 'f2xr13z', 'is_submitter': False, 'link_id': 't3_deigrz', 'locked': False, 'no_follow': True, 'parent_id': 't1_f2xpqti', 'permalink': '/r/climate/comments/deigrz/climate_inaction_is_terrifying/f2xr13z/', 'retrieved_on': 1570482668, 'score': 1, 'send_replies': True, 'steward_reports': [], 'stickied': False, 'subreddit': 'climate', 'subreddit_id': 't5_2qhx3', 'total_awards_received': 0}]\n",
      "\n",
      "degm7v\n",
      "f2xsxdw\n",
      "[{'all_awardings': [], 'approved_at_utc': None, 'author': 'silence7', 'author_flair_background_color': None, 'author_flair_css_class': None, 'author_flair_richtext': [], 'author_flair_template_id': None, 'author_flair_text': None, 'author_flair_text_color': None, 'author_flair_type': 'text', 'author_fullname': 't2_22bd2', 'author_patreon_flair': False, 'awarders': [], 'banned_at_utc': None, 'body': 'The EU and US followed a similar pattern to the US.  I really think the effects you see are a result of cheap natural gas for electric generation, plus a bunch of trade policy which encouraged trade, rather than a climate policy or carbon tax.', 'can_mod_post': False, 'collapsed': False, 'collapsed_reason': None, 'created_utc': 1570482148, 'distinguished': None, 'edited': False, 'gildings': {}, 'id': 'f2xsxdw', 'is_submitter': False, 'link_id': 't3_deigrz', 'locked': False, 'no_follow': True, 'parent_id': 't1_f2xr13z', 'permalink': '/r/climate/comments/deigrz/climate_inaction_is_terrifying/f2xsxdw/', 'retrieved_on': 1570483316, 'score': 1, 'send_replies': True, 'steward_reports': [], 'stickied': False, 'subreddit': 'climate', 'subreddit_id': 't5_2qhx3', 'total_awards_received': 0}]\n",
      "\n",
      "degm7v\n",
      "f2xunmt\n",
      "[{'all_awardings': [], 'approved_at_utc': None, 'author': 'cirifoba', 'author_flair_background_color': None, 'author_flair_css_class': None, 'author_flair_richtext': [], 'author_flair_template_id': None, 'author_flair_text': None, 'author_flair_text_color': None, 'author_flair_type': 'text', 'author_fullname': 't2_4ez53nqy', 'author_patreon_flair': False, 'awarders': [], 'banned_at_utc': None, 'body': 'Extinction is not the problem but the suffering while we are still here.', 'can_mod_post': False, 'collapsed': False, 'collapsed_reason': None, 'created_utc': 1570482729, 'distinguished': None, 'edited': False, 'gildings': {}, 'id': 'f2xunmt', 'is_submitter': False, 'link_id': 't3_deigrz', 'locked': False, 'no_follow': True, 'parent_id': 't3_deigrz', 'permalink': '/r/climate/comments/deigrz/climate_inaction_is_terrifying/f2xunmt/', 'retrieved_on': 1570483907, 'score': 1, 'send_replies': True, 'steward_reports': [], 'stickied': False, 'subreddit': 'climate', 'subreddit_id': 't5_2qhx3', 'total_awards_received': 0}]\n",
      "\n",
      "degm7v\n",
      "f2y45pm\n",
      "[{'all_awardings': [], 'approved_at_utc': None, 'author': 'ILikeNeurons', 'author_flair_background_color': None, 'author_flair_css_class': None, 'author_flair_richtext': [], 'author_flair_template_id': None, 'author_flair_text': None, 'author_flair_text_color': None, 'author_flair_type': 'text', 'author_fullname': 't2_9cki6', 'author_patreon_flair': False, 'awarders': [], 'banned_at_utc': None, 'body': \"Again, [that's not the problem you seem to think it is](https://link.springer.com/content/pdf/10.1007/s10640-007-9091-x.pdf).\", 'can_mod_post': False, 'collapsed': False, 'collapsed_reason': None, 'created_utc': 1570485952, 'distinguished': None, 'edited': False, 'gildings': {}, 'id': 'f2y45pm', 'is_submitter': False, 'link_id': 't3_deigrz', 'locked': False, 'no_follow': True, 'parent_id': 't1_f2xlafc', 'permalink': '/r/climate/comments/deigrz/climate_inaction_is_terrifying/f2y45pm/', 'retrieved_on': 1570487269, 'score': 1, 'send_replies': True, 'steward_reports': [], 'stickied': False, 'subreddit': 'climate', 'subreddit_id': 't5_2qhx3', 'total_awards_received': 0}]\n",
      "\n",
      "degm7v\n",
      "f2y4gjd\n",
      "[{'all_awardings': [], 'approved_at_utc': None, 'author': 'ILikeNeurons', 'author_flair_background_color': None, 'author_flair_css_class': None, 'author_flair_richtext': [], 'author_flair_template_id': None, 'author_flair_text': None, 'author_flair_text_color': None, 'author_flair_type': 'text', 'author_fullname': 't2_9cki6', 'author_patreon_flair': False, 'awarders': [], 'banned_at_utc': None, 'body': \"Yeah, I'd love to see an AMA with the study authors.\", 'can_mod_post': False, 'collapsed': False, 'collapsed_reason': None, 'created_utc': 1570486052, 'distinguished': None, 'edited': False, 'gildings': {}, 'id': 'f2y4gjd', 'is_submitter': False, 'link_id': 't3_deigrz', 'locked': False, 'no_follow': True, 'parent_id': 't1_f2xm5hy', 'permalink': '/r/climate/comments/deigrz/climate_inaction_is_terrifying/f2y4gjd/', 'retrieved_on': 1570487383, 'score': 1, 'send_replies': True, 'steward_reports': [], 'stickied': False, 'subreddit': 'climate', 'subreddit_id': 't5_2qhx3', 'total_awards_received': 0}]\n",
      "\n",
      "degm7v\n",
      "f2z58wl\n",
      "[{'all_awardings': [], 'approved_at_utc': None, 'author': 'beigs', 'author_flair_background_color': None, 'author_flair_css_class': None, 'author_flair_richtext': [], 'author_flair_template_id': None, 'author_flair_text': None, 'author_flair_text_color': None, 'author_flair_type': 'text', 'author_fullname': 't2_8ym16', 'author_patreon_flair': False, 'awarders': [], 'banned_at_utc': None, 'body': 'Let’s hope the liberals stay in government. The conservatives are planning on scrapping that policy', 'can_mod_post': False, 'collapsed': False, 'collapsed_reason': None, 'created_utc': 1570506891, 'distinguished': None, 'edited': False, 'gildings': {}, 'id': 'f2z58wl', 'is_submitter': False, 'link_id': 't3_deigrz', 'locked': False, 'no_follow': True, 'parent_id': 't1_f2xhfwz', 'permalink': '/r/climate/comments/deigrz/climate_inaction_is_terrifying/f2z58wl/', 'retrieved_on': 1570506893, 'score': 1, 'send_replies': True, 'steward_reports': [], 'stickied': False, 'subreddit': 'climate', 'subreddit_id': 't5_2qhx3', 'total_awards_received': 0}]\n",
      "\n",
      "degm7v\n",
      "f2z9kvc\n",
      "[{'all_awardings': [], 'approved_at_utc': None, 'author': 'Togethernotapart', 'author_flair_background_color': None, 'author_flair_css_class': None, 'author_flair_richtext': [], 'author_flair_template_id': None, 'author_flair_text': None, 'author_flair_text_color': None, 'author_flair_type': 'text', 'author_fullname': 't2_xu93ixz', 'author_patreon_flair': False, 'awarders': [], 'banned_at_utc': None, 'body': \"I've not heard of this. Thanks!\", 'can_mod_post': False, 'collapsed': False, 'collapsed_reason': None, 'created_utc': 1570511180, 'distinguished': None, 'edited': False, 'gildings': {}, 'id': 'f2z9kvc', 'is_submitter': False, 'link_id': 't3_deigrz', 'locked': False, 'no_follow': True, 'parent_id': 't1_f2xige6', 'permalink': '/r/climate/comments/deigrz/climate_inaction_is_terrifying/f2z9kvc/', 'retrieved_on': 1570511182, 'score': 1, 'send_replies': True, 'steward_reports': [], 'stickied': False, 'subreddit': 'climate', 'subreddit_id': 't5_2qhx3', 'total_awards_received': 0}]\n",
      "\n"
     ]
    },
    {
     "name": "stdout",
     "output_type": "stream",
     "text": [
      "degm7v\n",
      "f302k31\n",
      "[{'all_awardings': [], 'approved_at_utc': None, 'author': 'ILikeNeurons', 'author_flair_background_color': None, 'author_flair_css_class': None, 'author_flair_richtext': [], 'author_flair_template_id': None, 'author_flair_text': None, 'author_flair_text_color': None, 'author_flair_type': 'text', 'author_fullname': 't2_9cki6', 'author_patreon_flair': False, 'awarders': [], 'banned_at_utc': None, 'body': \"If you like Canada's carbon tax, you could sign up for the nonpartisan [Citizens' Climate Lobby](https://citizensclimatelobby.org/join-citizens-climate-lobby/?tfa_3590416195188=reddit-CarbonTax&amp;utm_source=reddit&amp;utm_medium=referral&amp;utm_campaign=CarbonTax), and become an expert on the policy to help protect it from the disinformation campaign. \\n\\nIt sure beats hoping.\", 'can_mod_post': False, 'collapsed': False, 'collapsed_reason': None, 'created_utc': 1570544927, 'distinguished': None, 'edited': False, 'gildings': {}, 'id': 'f302k31', 'is_submitter': False, 'link_id': 't3_deigrz', 'locked': False, 'no_follow': True, 'parent_id': 't1_f2z58wl', 'permalink': '/r/climate/comments/deigrz/climate_inaction_is_terrifying/f302k31/', 'retrieved_on': 1570544928, 'score': 1, 'send_replies': True, 'steward_reports': [], 'stickied': False, 'subreddit': 'climate', 'subreddit_id': 't5_2qhx3', 'total_awards_received': 0}]\n",
      "\n",
      "degm7v\n",
      "f302wnl\n",
      "[{'all_awardings': [], 'approved_at_utc': None, 'author': 'ILikeNeurons', 'author_flair_background_color': None, 'author_flair_css_class': None, 'author_flair_richtext': [], 'author_flair_template_id': None, 'author_flair_text': None, 'author_flair_text_color': None, 'author_flair_type': 'text', 'author_fullname': 't2_9cki6', 'author_patreon_flair': False, 'awarders': [], 'banned_at_utc': None, 'body': \"Sure thing!\\n\\nIf you want to help build the political will for a carbon tax, you could [start training](https://citizensclimatelobby.org/join-citizens-climate-lobby/?tfa_3590416195188=reddit-CarbonTax&amp;utm_source=reddit&amp;utm_medium=referral&amp;utm_campaign=CarbonTax) as a volunteer climate lobbyist. \\n\\n[I've been doing it for some time](https://np.reddit.com/r/worldnews/comments/cfx0aj/greta_thunberg_they_see_us_as_a_threat_because/eudkzof/), and can't recommend it enough.\", 'can_mod_post': False, 'collapsed': False, 'collapsed_reason': None, 'created_utc': 1570545167, 'distinguished': None, 'edited': False, 'gildings': {}, 'id': 'f302wnl', 'is_submitter': False, 'link_id': 't3_deigrz', 'locked': False, 'no_follow': True, 'parent_id': 't1_f2z9kvc', 'permalink': '/r/climate/comments/deigrz/climate_inaction_is_terrifying/f302wnl/', 'retrieved_on': 1570545169, 'score': 1, 'send_replies': True, 'steward_reports': [], 'stickied': False, 'subreddit': 'climate', 'subreddit_id': 't5_2qhx3', 'total_awards_received': 0}]\n",
      "\n",
      "degm7v\n",
      "f31kg93\n",
      "[{'all_awardings': [], 'approved_at_utc': None, 'author': 'beigs', 'author_flair_background_color': None, 'author_flair_css_class': None, 'author_flair_richtext': [], 'author_flair_template_id': None, 'author_flair_text': None, 'author_flair_text_color': None, 'author_flair_type': 'text', 'author_fullname': 't2_8ym16', 'author_patreon_flair': False, 'awarders': [], 'banned_at_utc': None, 'body': 'Will do. I vote green, and do everything I can to help.', 'can_mod_post': False, 'collapsed': False, 'collapsed_reason': None, 'created_utc': 1570577674, 'distinguished': None, 'edited': False, 'gildings': {}, 'id': 'f31kg93', 'is_submitter': False, 'link_id': 't3_deigrz', 'locked': False, 'no_follow': True, 'parent_id': 't1_f302k31', 'permalink': '/r/climate/comments/deigrz/climate_inaction_is_terrifying/f31kg93/', 'retrieved_on': 1570577675, 'score': 1, 'send_replies': True, 'steward_reports': [], 'stickied': False, 'subreddit': 'climate', 'subreddit_id': 't5_2qhx3', 'total_awards_received': 0}]\n",
      "\n",
      "degm7v\n",
      "f34857z\n",
      "[{'all_awardings': [], 'approved_at_utc': None, 'author': 'shminder', 'author_flair_background_color': None, 'author_flair_css_class': None, 'author_flair_richtext': [], 'author_flair_template_id': None, 'author_flair_text': None, 'author_flair_text_color': None, 'author_flair_type': 'text', 'author_fullname': 't2_sytbm', 'author_patreon_flair': False, 'awarders': [], 'banned_at_utc': None, 'body': \"I'm in luck! The next local monthly meeting/training session is this Saturday, so I'll be attending.  Thanks for this helpful guide for getting started.  It can be daunting to get involved with something new, so thanks for making it accessible!\", 'can_mod_post': False, 'collapsed': False, 'collapsed_reason': None, 'created_utc': 1570651152, 'distinguished': None, 'edited': False, 'gildings': {}, 'id': 'f34857z', 'is_submitter': False, 'link_id': 't3_deigrz', 'locked': False, 'no_follow': True, 'parent_id': 't1_f2xhxjo', 'permalink': '/r/climate/comments/deigrz/climate_inaction_is_terrifying/f34857z/', 'retrieved_on': 1570651563, 'score': 1, 'send_replies': True, 'steward_reports': [], 'stickied': False, 'subreddit': 'climate', 'subreddit_id': 't5_2qhx3', 'total_awards_received': 0}]\n",
      "\n",
      "degm7v\n",
      "f34dcb4\n",
      "[{'all_awardings': [], 'approved_at_utc': None, 'author': 'ILikeNeurons', 'author_flair_background_color': None, 'author_flair_css_class': None, 'author_flair_richtext': [], 'author_flair_template_id': None, 'author_flair_text': None, 'author_flair_text_color': None, 'author_flair_type': 'text', 'author_fullname': 't2_9cki6', 'author_patreon_flair': False, 'awarders': [], 'banned_at_utc': None, 'body': 'Glad to hear it, and thanks for the feedback!\\n\\nHappy lobbying!', 'can_mod_post': False, 'collapsed': False, 'collapsed_reason': None, 'created_utc': 1570652740, 'distinguished': None, 'edited': False, 'gildings': {}, 'id': 'f34dcb4', 'is_submitter': False, 'link_id': 't3_deigrz', 'locked': False, 'no_follow': True, 'parent_id': 't1_f34857z', 'permalink': '/r/climate/comments/deigrz/climate_inaction_is_terrifying/f34dcb4/', 'retrieved_on': 1570653496, 'score': 1, 'send_replies': True, 'steward_reports': [], 'stickied': False, 'subreddit': 'climate', 'subreddit_id': 't5_2qhx3', 'total_awards_received': 0}]\n",
      "\n"
     ]
    }
   ],
   "source": [
    "comment_info = {}\n",
    "\n",
    "\n",
    "for key in comment_dict:\n",
    "    comment_info[key] = []\n",
    "    for value in comment_dict[key]:\n",
    "        response = requests.get(f'https://api.pushshift.io/reddit/comment/search?ids={value}')\n",
    "        data = response.json()\n",
    "        print(key)\n",
    "        print(value)\n",
    "        print(data['data'])\n",
    "        comment_info['key'].extend(data['data'])\n",
    "#     print(comment_dict[key][0])\n",
    "        print('')\n",
    "    \n",
    "    "
   ]
  },
  {
   "cell_type": "code",
   "execution_count": 30,
   "metadata": {},
   "outputs": [
    {
     "data": {
      "text/plain": [
       "{'deigrz': ['f2vgm9f',\n",
       "  'f2vi38o',\n",
       "  'f2vubva',\n",
       "  'f2w4syd',\n",
       "  'f2w5ib5',\n",
       "  'f2w60lo',\n",
       "  'f2w7s0v',\n",
       "  'f2wf08h',\n",
       "  'f2wf8cw',\n",
       "  'f2wid68',\n",
       "  'f2wk205',\n",
       "  'f2wk46s',\n",
       "  'f2wkk3d',\n",
       "  'f2wku25',\n",
       "  'f2wnk1e',\n",
       "  'f2wqjx1',\n",
       "  'f2wrb00',\n",
       "  'f2wrmsp',\n",
       "  'f2wzb45',\n",
       "  'f2x1joe',\n",
       "  'f2x2vwa',\n",
       "  'f2x3gzj',\n",
       "  'f2x43ac',\n",
       "  'f2x4lya',\n",
       "  'f2x833d',\n",
       "  'f2x9yfr',\n",
       "  'f2xb4bu',\n",
       "  'f2xbcuw',\n",
       "  'f2xbmli',\n",
       "  'f2xbsyu',\n",
       "  'f2xc81s',\n",
       "  'f2xdefu',\n",
       "  'f2xf8fb',\n",
       "  'f2xfqp9',\n",
       "  'f2xhfwz',\n",
       "  'f2xhxjo',\n",
       "  'f2xige6',\n",
       "  'f2xijun',\n",
       "  'f2xjh29',\n",
       "  'f2xlafc',\n",
       "  'f2xm5hy',\n",
       "  'f2xpqti',\n",
       "  'f2xr13z',\n",
       "  'f2xsxdw',\n",
       "  'f2xunmt',\n",
       "  'f2y45pm',\n",
       "  'f2y4gjd',\n",
       "  'f2z58wl',\n",
       "  'f2z9kvc',\n",
       "  'f302k31',\n",
       "  'f302wnl',\n",
       "  'f31kg93',\n",
       "  'f34857z',\n",
       "  'f34dcb4'],\n",
       " 'degm7v': ['f2vgm9f',\n",
       "  'f2vi38o',\n",
       "  'f2vubva',\n",
       "  'f2w4syd',\n",
       "  'f2w5ib5',\n",
       "  'f2w60lo',\n",
       "  'f2w7s0v',\n",
       "  'f2wf08h',\n",
       "  'f2wf8cw',\n",
       "  'f2wid68',\n",
       "  'f2wk205',\n",
       "  'f2wk46s',\n",
       "  'f2wkk3d',\n",
       "  'f2wku25',\n",
       "  'f2wnk1e',\n",
       "  'f2wqjx1',\n",
       "  'f2wrb00',\n",
       "  'f2wrmsp',\n",
       "  'f2wzb45',\n",
       "  'f2x1joe',\n",
       "  'f2x2vwa',\n",
       "  'f2x3gzj',\n",
       "  'f2x43ac',\n",
       "  'f2x4lya',\n",
       "  'f2x833d',\n",
       "  'f2x9yfr',\n",
       "  'f2xb4bu',\n",
       "  'f2xbcuw',\n",
       "  'f2xbmli',\n",
       "  'f2xbsyu',\n",
       "  'f2xc81s',\n",
       "  'f2xdefu',\n",
       "  'f2xf8fb',\n",
       "  'f2xfqp9',\n",
       "  'f2xhfwz',\n",
       "  'f2xhxjo',\n",
       "  'f2xige6',\n",
       "  'f2xijun',\n",
       "  'f2xjh29',\n",
       "  'f2xlafc',\n",
       "  'f2xm5hy',\n",
       "  'f2xpqti',\n",
       "  'f2xr13z',\n",
       "  'f2xsxdw',\n",
       "  'f2xunmt',\n",
       "  'f2y45pm',\n",
       "  'f2y4gjd',\n",
       "  'f2z58wl',\n",
       "  'f2z9kvc',\n",
       "  'f302k31',\n",
       "  'f302wnl',\n",
       "  'f31kg93',\n",
       "  'f34857z',\n",
       "  'f34dcb4']}"
      ]
     },
     "execution_count": 30,
     "metadata": {},
     "output_type": "execute_result"
    }
   ],
   "source": [
    "comment_dict"
   ]
  },
  {
   "cell_type": "markdown",
   "metadata": {},
   "source": [
    "# Sending to Zohaib"
   ]
  },
  {
   "cell_type": "code",
   "execution_count": null,
   "metadata": {},
   "outputs": [],
   "source": [
    "import pandas as pd\n",
    "import numpy as np\n",
    "import requests\n",
    "import json\n",
    "\n",
    "from tqdm import tqdm_notebook \n",
    "import pickle"
   ]
  },
  {
   "cell_type": "code",
   "execution_count": null,
   "metadata": {},
   "outputs": [],
   "source": [
    "df_deny = pd.read_csv('df_deny.csv')\n",
    "df_climate = pd.read_csv('df_climate.csv')"
   ]
  },
  {
   "cell_type": "markdown",
   "metadata": {},
   "source": [
    "# Function to grab comment ids"
   ]
  },
  {
   "cell_type": "code",
   "execution_count": null,
   "metadata": {},
   "outputs": [],
   "source": [
    "def comment_id_grabber(df):\n",
    "    headers = requests.utils.default_headers()\n",
    "    headers['User-Agent'] = 'Mozilla/5.0 (X11; Linux x86_64) AppleWebKit/537.36 (KHTML, like Gecko) Chrome/56.0.2924.87 Safari/537.36'\n",
    "    \n",
    "    x={}\n",
    "    y = list(df['id'])\n",
    "    \n",
    "    sleep_counter = 0\n",
    "    \n",
    "    for i in tqdm_notebook(y):\n",
    "        response = requests.get(f'https://api.pushshift.io/reddit/submission/comment_ids/{i}', headers = headers)\n",
    "        \n",
    "        sleep_counter += 1\n",
    "        \n",
    "        if sleep_counter == 20:\n",
    "            sleep_counter = 0\n",
    "            time.sleep(1)\n",
    "        \n",
    "        try:\n",
    "        \n",
    "            data = response.json() # data is my first increment of dictionaries\n",
    "            \n",
    "        except (JSONDecodeError, OSError, NameError, ValueError) as error:\n",
    "            print(response)\n",
    "            print(error)\n",
    "            print(i)\n",
    "            continue\n",
    "        \n",
    "        x[i] = data['data']\n",
    "    return x"
   ]
  },
  {
   "cell_type": "code",
   "execution_count": null,
   "metadata": {},
   "outputs": [],
   "source": [
    "\n",
    "\n",
    "denier_comments = comment_id_grabber(df_deny)\n",
    "\n",
    "#pickle the data\n",
    "with open('denier_comments.pickle', 'wb') as handle:\n",
    "    pickle.dump(denier_comments, handle, protocol=pickle.HIGHEST_PROTOCOL)\n",
    "with open('denier_comments.pickle', 'rb') as handle:\n",
    "    b1 = pickle.load(handle)\n",
    "    \n",
    "#checking if data is the same\n",
    "print(denier_comments == b1)\n",
    "\n",
    "\n",
    "\n",
    "\n",
    "\n",
    "#pickle the data\n",
    "climate_comments = comment_id_grabber(df_climate)\n",
    "\n",
    "with open('climate_comments.pickle', 'wb') as handle:\n",
    "    pickle.dump(climate_comments, handle, protocol=pickle.HIGHEST_PROTOCOL)\n",
    "with open('climate_comments.pickle', 'rb') as handle:\n",
    "    b2 = pickle.load(handle)\n",
    "    \n",
    "#checking if the data is the same\n",
    "print(climate_comments == b2)"
   ]
  },
  {
   "cell_type": "markdown",
   "metadata": {},
   "source": [
    "# Function to grab comments after obtaining comment ids"
   ]
  },
  {
   "cell_type": "code",
   "execution_count": null,
   "metadata": {},
   "outputs": [],
   "source": [
    "def comments(comment_dict):\n",
    "    \n",
    "    comment_info = {}\n",
    "    headers = requests.utils.default_headers()\n",
    "    headers['User-Agent'] = 'Mozilla/5.0 (X11; Linux x86_64) AppleWebKit/537.36 (KHTML, like Gecko) Chrome/56.0.2924.87 Safari/537.36'\n",
    "    for key in tqdm_notebook(comment_dict):\n",
    "        comment_info[key] = []\n",
    "        sleep_counter = 0 # set counter back to zero once the key changes\n",
    "        for value in comment_dict[key]:\n",
    "            response = requests.get(f'https://api.pushshift.io/reddit/comment/search?ids={value}', headers=headers)\n",
    "\n",
    "\n",
    "            sleep_counter += 1\n",
    "            if sleep_counter == 20:\n",
    "                sleep_counter = 0\n",
    "                time.sleep(1)\n",
    "    \n",
    "    \n",
    "            try:\n",
    "                data = response.json()\n",
    "                \n",
    "            except JSONDecodeError:\n",
    "                continue\n",
    "                \n",
    "\n",
    "\n",
    "            comment_info[key].extend(data['data'])\n",
    "    return comment_info"
   ]
  },
  {
   "cell_type": "code",
   "execution_count": null,
   "metadata": {},
   "outputs": [],
   "source": [
    "# pickling denier comments\n",
    "d_comments = comments(denier_comments)\n",
    "\n",
    "with open('d_comments.pickle', 'wb') as handle:\n",
    "    pickle.dump(d_comments, handle, protocol=pickle.HIGHEST_PROTOCOL)\n",
    "with open('d_comments.pickle', 'rb') as handle:\n",
    "    b3 = pickle.load(handle)\n",
    "print(d_comments == b3)\n",
    "\n",
    "\n",
    "\n",
    "\n",
    "# pickling climate comments\n",
    "c_comments = comments(climate_comments)\n",
    "\n",
    "with open('c_comments.pickle', 'wb') as handle:\n",
    "    pickle.dump(c_comments, handle, protocol=pickle.HIGHEST_PROTOCOL)\n",
    "with open('c_comments.pickle', 'rb') as handle:\n",
    "    b4 = pickle.load(handle)\n",
    "print(c_comments == b4)"
   ]
  },
  {
   "cell_type": "code",
   "execution_count": null,
   "metadata": {},
   "outputs": [],
   "source": []
  },
  {
   "cell_type": "code",
   "execution_count": null,
   "metadata": {},
   "outputs": [],
   "source": []
  },
  {
   "cell_type": "code",
   "execution_count": null,
   "metadata": {},
   "outputs": [],
   "source": []
  }
 ],
 "metadata": {
  "kernelspec": {
   "display_name": "Python 3",
   "language": "python",
   "name": "python3"
  },
  "language_info": {
   "codemirror_mode": {
    "name": "ipython",
    "version": 3
   },
   "file_extension": ".py",
   "mimetype": "text/x-python",
   "name": "python",
   "nbconvert_exporter": "python",
   "pygments_lexer": "ipython3",
   "version": "3.7.3"
  }
 },
 "nbformat": 4,
 "nbformat_minor": 2
}
